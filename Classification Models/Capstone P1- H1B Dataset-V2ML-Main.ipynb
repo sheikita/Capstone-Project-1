{
 "cells": [
  {
   "cell_type": "markdown",
   "metadata": {},
   "source": [
    "#  ML model that will predict likelihood of getting H1B approved \n",
    "\n",
    "### Problem Statement\n",
    "It is known that many US open job positions can not be filled due to the lack of qualified resources within the United States. One option that companies are using to solve this shortage is by sponsoring foreign qualified professionals via H1B visas.  Companies will submit applications on behalf of these foreign workers. \n",
    "\n",
    "The main outcome that companies and individuals are hoping for is Certified (approved). Besides it, the other potential outcomes are Rejected/Denied/Withdrawn/Pending.  \n",
    "\n",
    "\n",
    "### Goal of the Project\n",
    "\n",
    "The goal of my project is to answer the following question: Is it possible to predict if an H1B application will be Certified or not given the selected company sponsor/job title/duration?\n",
    "\n",
    "### Data Source\n",
    "\n",
    "The historical data that I will use to answer this question will cover at last fiscal year (Oct 1, 2017- Sept 30, 2018) of H1B visas applications and is available for collection at the Department of Labor. \n",
    "\n",
    "### Variables\n",
    "\n",
    "The project will focus on Company sponsor (Employers), Job Title, process Duration. Note- To calculate the Duration variable, Decision Date and Case submitted date variables are used."
   ]
  },
  {
   "cell_type": "code",
   "execution_count": 1,
   "metadata": {},
   "outputs": [],
   "source": [
    "%matplotlib inline\n",
    "\n",
    "import pandas as pd\n",
    "import numpy as np\n",
    "from scipy import stats\n",
    "import matplotlib.pyplot as plt\n",
    "import matplotlib.mlab as mlab\n",
    "import seaborn as sns\n",
    "import pylab\n",
    "import copy\n",
    "\n",
    "from sklearn.linear_model import LogisticRegression\n",
    "from sklearn import tree\n",
    "from sklearn.tree import DecisionTreeClassifier \n",
    "\n",
    "from sklearn.pipeline import Pipeline\n",
    "from sklearn.preprocessing import StandardScaler, OneHotEncoder\n",
    "from sklearn.preprocessing import LabelEncoder\n",
    "from sklearn.model_selection import train_test_split, GridSearchCV\n",
    "\n",
    "from sklearn.linear_model import Lasso\n",
    "from sklearn.metrics import classification_report\n",
    "from sklearn.metrics import confusion_matrix\n",
    "from sklearn.metrics import accuracy_score\n",
    "\n",
    "\n"
   ]
  },
  {
   "cell_type": "code",
   "execution_count": 2,
   "metadata": {},
   "outputs": [],
   "source": [
    "data_q4 = pd.read_excel(\"..!/data/H-1B_copy.xlsx\")"
   ]
  },
  {
   "cell_type": "code",
   "execution_count": 3,
   "metadata": {
    "scrolled": true
   },
   "outputs": [
    {
     "data": {
      "text/plain": [
       "(654360, 52)"
      ]
     },
     "execution_count": 3,
     "metadata": {},
     "output_type": "execute_result"
    }
   ],
   "source": [
    "#What is the size of my data?\n",
    "data_q4.shape\n"
   ]
  },
  {
   "cell_type": "code",
   "execution_count": 4,
   "metadata": {},
   "outputs": [],
   "source": [
    "data_q4.drop(data_q4.index[3],inplace=True)"
   ]
  },
  {
   "cell_type": "code",
   "execution_count": 5,
   "metadata": {},
   "outputs": [
    {
     "data": {
      "text/plain": [
       "(654359, 52)"
      ]
     },
     "execution_count": 5,
     "metadata": {},
     "output_type": "execute_result"
    }
   ],
   "source": [
    "data_q4.shape"
   ]
  },
  {
   "cell_type": "code",
   "execution_count": 6,
   "metadata": {
    "scrolled": true
   },
   "outputs": [
    {
     "data": {
      "text/plain": [
       "CERTIFIED              579448\n",
       "CERTIFIED-WITHDRAWN     45004\n",
       "WITHDRAWN               21280\n",
       "DENIED                   8627\n",
       "Name: CASE_STATUS, dtype: int64"
      ]
     },
     "execution_count": 6,
     "metadata": {},
     "output_type": "execute_result"
    }
   ],
   "source": [
    "#Given my goal: How many applications were approved/certified? \n",
    "data_q4['CASE_STATUS'].value_counts()"
   ]
  },
  {
   "cell_type": "code",
   "execution_count": 14,
   "metadata": {},
   "outputs": [],
   "source": [
    "status = {'Certified': 579448, 'Certified-W': 45004, 'Withdrawn':21280, 'Denied': 8627}\n",
    "status_k = list(status.keys())\n",
    "status_v = list(status.values())"
   ]
  },
  {
   "cell_type": "code",
   "execution_count": 15,
   "metadata": {},
   "outputs": [
    {
     "data": {
      "text/plain": [
       "Text(0.5, 0.98, 'Status of Applications')"
      ]
     },
     "execution_count": 15,
     "metadata": {},
     "output_type": "execute_result"
    },
    {
     "data": {
      "image/png": "[encoded data removed]",
      "text/plain": [
       "<Figure size 432x288 with 1 Axes>"
      ]
     },
     "metadata": {},
     "output_type": "display_data"
    }
   ],
   "source": [
    "fig, ax = plt.subplots()\n",
    "ax.bar(status_k, status_v)\n",
    "fig.suptitle('Status of Applications')"
   ]
  },
  {
   "cell_type": "code",
   "execution_count": 7,
   "metadata": {},
   "outputs": [],
   "source": [
    "data_q4['DURATION'] = data_q4['DECISION_DATE'] - data_q4['CASE_SUBMITTED']"
   ]
  },
  {
   "cell_type": "code",
   "execution_count": 8,
   "metadata": {},
   "outputs": [],
   "source": [
    "data_q4['DURATION']= data_q4.DURATION/ np.timedelta64(1, 'h')"
   ]
  },
  {
   "cell_type": "code",
   "execution_count": 9,
   "metadata": {
    "scrolled": true
   },
   "outputs": [
    {
     "data": {
      "text/html": [
       "<div>\n",
       "<style scoped>\n",
       "    .dataframe tbody tr th:only-of-type {\n",
       "        vertical-align: middle;\n",
       "    }\n",
       "\n",
       "    .dataframe tbody tr th {\n",
       "        vertical-align: top;\n",
       "    }\n",
       "\n",
       "    .dataframe thead th {\n",
       "        text-align: right;\n",
       "    }\n",
       "</style>\n",
       "<table border=\"1\" class=\"dataframe\">\n",
       "  <thead>\n",
       "    <tr style=\"text-align: right;\">\n",
       "      <th></th>\n",
       "      <th>NAICS_CODE</th>\n",
       "      <th>TOTAL_WORKERS</th>\n",
       "      <th>NEW_EMPLOYMENT</th>\n",
       "      <th>CONTINUED_EMPLOYMENT</th>\n",
       "      <th>CHANGE_PREVIOUS_EMPLOYMENT</th>\n",
       "      <th>NEW_CONCURRENT_EMP</th>\n",
       "      <th>CHANGE_EMPLOYER</th>\n",
       "      <th>AMENDED_PETITION</th>\n",
       "      <th>PREVAILING_WAGE</th>\n",
       "      <th>PW_SOURCE_YEAR</th>\n",
       "      <th>WAGE_RATE_OF_PAY_FROM</th>\n",
       "      <th>WAGE_RATE_OF_PAY_TO</th>\n",
       "      <th>PUBLIC_DISCLOSURE_LOCATION</th>\n",
       "      <th>DURATION</th>\n",
       "    </tr>\n",
       "  </thead>\n",
       "  <tbody>\n",
       "    <tr>\n",
       "      <th>count</th>\n",
       "      <td>654353.000000</td>\n",
       "      <td>654359.000000</td>\n",
       "      <td>654359.000000</td>\n",
       "      <td>654359.000000</td>\n",
       "      <td>654359.000000</td>\n",
       "      <td>654359.000000</td>\n",
       "      <td>654359.000000</td>\n",
       "      <td>654359.000000</td>\n",
       "      <td>6.543560e+05</td>\n",
       "      <td>654292.000000</td>\n",
       "      <td>6.543590e+05</td>\n",
       "      <td>6.543560e+05</td>\n",
       "      <td>0.0</td>\n",
       "      <td>654359.000000</td>\n",
       "    </tr>\n",
       "    <tr>\n",
       "      <th>mean</th>\n",
       "      <td>443245.330603</td>\n",
       "      <td>1.981536</td>\n",
       "      <td>0.847396</td>\n",
       "      <td>0.356702</td>\n",
       "      <td>0.144312</td>\n",
       "      <td>0.015667</td>\n",
       "      <td>0.301882</td>\n",
       "      <td>0.316630</td>\n",
       "      <td>8.204631e+04</td>\n",
       "      <td>2017.172493</td>\n",
       "      <td>9.119617e+04</td>\n",
       "      <td>2.565564e+04</td>\n",
       "      <td>NaN</td>\n",
       "      <td>763.137385</td>\n",
       "    </tr>\n",
       "    <tr>\n",
       "      <th>std</th>\n",
       "      <td>197179.672671</td>\n",
       "      <td>5.616137</td>\n",
       "      <td>4.037308</td>\n",
       "      <td>1.792550</td>\n",
       "      <td>1.163532</td>\n",
       "      <td>0.276556</td>\n",
       "      <td>1.503982</td>\n",
       "      <td>1.645805</td>\n",
       "      <td>1.236610e+06</td>\n",
       "      <td>3.576551</td>\n",
       "      <td>1.237009e+06</td>\n",
       "      <td>5.643532e+04</td>\n",
       "      <td>NaN</td>\n",
       "      <td>3097.440796</td>\n",
       "    </tr>\n",
       "    <tr>\n",
       "      <th>min</th>\n",
       "      <td>23.000000</td>\n",
       "      <td>0.000000</td>\n",
       "      <td>0.000000</td>\n",
       "      <td>0.000000</td>\n",
       "      <td>0.000000</td>\n",
       "      <td>0.000000</td>\n",
       "      <td>0.000000</td>\n",
       "      <td>0.000000</td>\n",
       "      <td>0.000000e+00</td>\n",
       "      <td>1.000000</td>\n",
       "      <td>0.000000e+00</td>\n",
       "      <td>0.000000e+00</td>\n",
       "      <td>NaN</td>\n",
       "      <td>0.000000</td>\n",
       "    </tr>\n",
       "    <tr>\n",
       "      <th>25%</th>\n",
       "      <td>452112.000000</td>\n",
       "      <td>1.000000</td>\n",
       "      <td>0.000000</td>\n",
       "      <td>0.000000</td>\n",
       "      <td>0.000000</td>\n",
       "      <td>0.000000</td>\n",
       "      <td>0.000000</td>\n",
       "      <td>0.000000</td>\n",
       "      <td>6.462600e+04</td>\n",
       "      <td>2017.000000</td>\n",
       "      <td>7.000000e+04</td>\n",
       "      <td>0.000000e+00</td>\n",
       "      <td>NaN</td>\n",
       "      <td>144.000000</td>\n",
       "    </tr>\n",
       "    <tr>\n",
       "      <th>50%</th>\n",
       "      <td>541511.000000</td>\n",
       "      <td>1.000000</td>\n",
       "      <td>0.000000</td>\n",
       "      <td>0.000000</td>\n",
       "      <td>0.000000</td>\n",
       "      <td>0.000000</td>\n",
       "      <td>0.000000</td>\n",
       "      <td>0.000000</td>\n",
       "      <td>8.012200e+04</td>\n",
       "      <td>2017.000000</td>\n",
       "      <td>8.560000e+04</td>\n",
       "      <td>0.000000e+00</td>\n",
       "      <td>NaN</td>\n",
       "      <td>144.000000</td>\n",
       "    </tr>\n",
       "    <tr>\n",
       "      <th>75%</th>\n",
       "      <td>541511.000000</td>\n",
       "      <td>1.000000</td>\n",
       "      <td>1.000000</td>\n",
       "      <td>0.000000</td>\n",
       "      <td>0.000000</td>\n",
       "      <td>0.000000</td>\n",
       "      <td>0.000000</td>\n",
       "      <td>0.000000</td>\n",
       "      <td>9.709400e+04</td>\n",
       "      <td>2017.000000</td>\n",
       "      <td>1.080000e+05</td>\n",
       "      <td>0.000000e+00</td>\n",
       "      <td>NaN</td>\n",
       "      <td>144.000000</td>\n",
       "    </tr>\n",
       "    <tr>\n",
       "      <th>max</th>\n",
       "      <td>928120.000000</td>\n",
       "      <td>200.000000</td>\n",
       "      <td>200.000000</td>\n",
       "      <td>99.000000</td>\n",
       "      <td>75.000000</td>\n",
       "      <td>50.000000</td>\n",
       "      <td>99.000000</td>\n",
       "      <td>109.000000</td>\n",
       "      <td>1.000000e+09</td>\n",
       "      <td>2107.000000</td>\n",
       "      <td>1.000000e+09</td>\n",
       "      <td>9.103328e+06</td>\n",
       "      <td>NaN</td>\n",
       "      <td>67056.000000</td>\n",
       "    </tr>\n",
       "  </tbody>\n",
       "</table>\n",
       "</div>"
      ],
      "text/plain": [
       "          NAICS_CODE  TOTAL_WORKERS  NEW_EMPLOYMENT  CONTINUED_EMPLOYMENT  \\\n",
       "count  654353.000000  654359.000000   654359.000000         654359.000000   \n",
       "mean   443245.330603       1.981536        0.847396              0.356702   \n",
       "std    197179.672671       5.616137        4.037308              1.792550   \n",
       "min        23.000000       0.000000        0.000000              0.000000   \n",
       "25%    452112.000000       1.000000        0.000000              0.000000   \n",
       "50%    541511.000000       1.000000        0.000000              0.000000   \n",
       "75%    541511.000000       1.000000        1.000000              0.000000   \n",
       "max    928120.000000     200.000000      200.000000             99.000000   \n",
       "\n",
       "       CHANGE_PREVIOUS_EMPLOYMENT  NEW_CONCURRENT_EMP  CHANGE_EMPLOYER  \\\n",
       "count               654359.000000       654359.000000    654359.000000   \n",
       "mean                     0.144312            0.015667         0.301882   \n",
       "std                      1.163532            0.276556         1.503982   \n",
       "min                      0.000000            0.000000         0.000000   \n",
       "25%                      0.000000            0.000000         0.000000   \n",
       "50%                      0.000000            0.000000         0.000000   \n",
       "75%                      0.000000            0.000000         0.000000   \n",
       "max                     75.000000           50.000000        99.000000   \n",
       "\n",
       "       AMENDED_PETITION  PREVAILING_WAGE  PW_SOURCE_YEAR  \\\n",
       "count     654359.000000     6.543560e+05   654292.000000   \n",
       "mean           0.316630     8.204631e+04     2017.172493   \n",
       "std            1.645805     1.236610e+06        3.576551   \n",
       "min            0.000000     0.000000e+00        1.000000   \n",
       "25%            0.000000     6.462600e+04     2017.000000   \n",
       "50%            0.000000     8.012200e+04     2017.000000   \n",
       "75%            0.000000     9.709400e+04     2017.000000   \n",
       "max          109.000000     1.000000e+09     2107.000000   \n",
       "\n",
       "       WAGE_RATE_OF_PAY_FROM  WAGE_RATE_OF_PAY_TO  PUBLIC_DISCLOSURE_LOCATION  \\\n",
       "count           6.543590e+05         6.543560e+05                         0.0   \n",
       "mean            9.119617e+04         2.565564e+04                         NaN   \n",
       "std             1.237009e+06         5.643532e+04                         NaN   \n",
       "min             0.000000e+00         0.000000e+00                         NaN   \n",
       "25%             7.000000e+04         0.000000e+00                         NaN   \n",
       "50%             8.560000e+04         0.000000e+00                         NaN   \n",
       "75%             1.080000e+05         0.000000e+00                         NaN   \n",
       "max             1.000000e+09         9.103328e+06                         NaN   \n",
       "\n",
       "            DURATION  \n",
       "count  654359.000000  \n",
       "mean      763.137385  \n",
       "std      3097.440796  \n",
       "min         0.000000  \n",
       "25%       144.000000  \n",
       "50%       144.000000  \n",
       "75%       144.000000  \n",
       "max     67056.000000  "
      ]
     },
     "execution_count": 9,
     "metadata": {},
     "output_type": "execute_result"
    }
   ],
   "source": [
    "data_q4.describe()"
   ]
  },
  {
   "cell_type": "code",
   "execution_count": 10,
   "metadata": {},
   "outputs": [
    {
     "data": {
      "text/html": [
       "<div>\n",
       "<style scoped>\n",
       "    .dataframe tbody tr th:only-of-type {\n",
       "        vertical-align: middle;\n",
       "    }\n",
       "\n",
       "    .dataframe tbody tr th {\n",
       "        vertical-align: top;\n",
       "    }\n",
       "\n",
       "    .dataframe thead th {\n",
       "        text-align: right;\n",
       "    }\n",
       "</style>\n",
       "<table border=\"1\" class=\"dataframe\">\n",
       "  <thead>\n",
       "    <tr style=\"text-align: right;\">\n",
       "      <th></th>\n",
       "      <th>CASE_NUMBER</th>\n",
       "      <th>CASE_STATUS</th>\n",
       "      <th>CASE_SUBMITTED</th>\n",
       "      <th>DECISION_DATE</th>\n",
       "      <th>VISA_CLASS</th>\n",
       "      <th>EMPLOYMENT_START_DATE</th>\n",
       "      <th>EMPLOYMENT_END_DATE</th>\n",
       "      <th>EMPLOYER_NAME</th>\n",
       "      <th>EMPLOYER_BUSINESS_DBA</th>\n",
       "      <th>EMPLOYER_ADDRESS</th>\n",
       "      <th>...</th>\n",
       "      <th>WILLFUL_VIOLATOR</th>\n",
       "      <th>SUPPORT_H1B</th>\n",
       "      <th>LABOR_CON_AGREE</th>\n",
       "      <th>PUBLIC_DISCLOSURE_LOCATION</th>\n",
       "      <th>WORKSITE_CITY</th>\n",
       "      <th>WORKSITE_COUNTY</th>\n",
       "      <th>WORKSITE_STATE</th>\n",
       "      <th>WORKSITE_POSTAL_CODE</th>\n",
       "      <th>ORIGINAL_CERT_DATE</th>\n",
       "      <th>DURATION</th>\n",
       "    </tr>\n",
       "  </thead>\n",
       "  <tbody>\n",
       "    <tr>\n",
       "      <th>0</th>\n",
       "      <td>I-200-18026-338377</td>\n",
       "      <td>CERTIFIED</td>\n",
       "      <td>2018-01-29</td>\n",
       "      <td>2018-02-02</td>\n",
       "      <td>H-1B</td>\n",
       "      <td>2018-07-28</td>\n",
       "      <td>2021-07-27</td>\n",
       "      <td>MICROSOFT CORPORATION</td>\n",
       "      <td>NaN</td>\n",
       "      <td>1 MICROSOFT WAY</td>\n",
       "      <td>...</td>\n",
       "      <td>N</td>\n",
       "      <td>NaN</td>\n",
       "      <td>NaN</td>\n",
       "      <td>NaN</td>\n",
       "      <td>REDMOND</td>\n",
       "      <td>KING</td>\n",
       "      <td>WA</td>\n",
       "      <td>98052</td>\n",
       "      <td>NaT</td>\n",
       "      <td>96.0</td>\n",
       "    </tr>\n",
       "    <tr>\n",
       "      <th>1</th>\n",
       "      <td>I-200-17296-353451</td>\n",
       "      <td>CERTIFIED</td>\n",
       "      <td>2017-10-23</td>\n",
       "      <td>2017-10-27</td>\n",
       "      <td>H-1B</td>\n",
       "      <td>2017-11-06</td>\n",
       "      <td>2020-11-06</td>\n",
       "      <td>ERNST &amp; YOUNG U.S. LLP</td>\n",
       "      <td>NaN</td>\n",
       "      <td>200 PLAZA DRIVE</td>\n",
       "      <td>...</td>\n",
       "      <td>N</td>\n",
       "      <td>NaN</td>\n",
       "      <td>NaN</td>\n",
       "      <td>NaN</td>\n",
       "      <td>SANTA CLARA</td>\n",
       "      <td>SAN JOSE</td>\n",
       "      <td>CA</td>\n",
       "      <td>95110</td>\n",
       "      <td>NaT</td>\n",
       "      <td>96.0</td>\n",
       "    </tr>\n",
       "    <tr>\n",
       "      <th>2</th>\n",
       "      <td>I-200-18242-524477</td>\n",
       "      <td>CERTIFIED</td>\n",
       "      <td>2018-08-30</td>\n",
       "      <td>2018-09-06</td>\n",
       "      <td>H-1B</td>\n",
       "      <td>2018-09-10</td>\n",
       "      <td>2021-09-09</td>\n",
       "      <td>LOGIXHUB LLC</td>\n",
       "      <td>NaN</td>\n",
       "      <td>320 DECKER DRIVE</td>\n",
       "      <td>...</td>\n",
       "      <td>N</td>\n",
       "      <td>NaN</td>\n",
       "      <td>NaN</td>\n",
       "      <td>NaN</td>\n",
       "      <td>IRVING</td>\n",
       "      <td>DALLAS</td>\n",
       "      <td>TX</td>\n",
       "      <td>75062</td>\n",
       "      <td>NaT</td>\n",
       "      <td>168.0</td>\n",
       "    </tr>\n",
       "    <tr>\n",
       "      <th>4</th>\n",
       "      <td>I-200-18243-850522</td>\n",
       "      <td>CERTIFIED</td>\n",
       "      <td>2018-08-31</td>\n",
       "      <td>2018-09-07</td>\n",
       "      <td>H-1B</td>\n",
       "      <td>2018-09-07</td>\n",
       "      <td>2021-09-06</td>\n",
       "      <td>ECLOUD LABS,INC.</td>\n",
       "      <td>NaN</td>\n",
       "      <td>120 S WOOD AVENUE</td>\n",
       "      <td>...</td>\n",
       "      <td>N</td>\n",
       "      <td>Y</td>\n",
       "      <td>Y</td>\n",
       "      <td>NaN</td>\n",
       "      <td>BIRMINGHAM</td>\n",
       "      <td>SHELBY</td>\n",
       "      <td>AL</td>\n",
       "      <td>35244</td>\n",
       "      <td>NaT</td>\n",
       "      <td>168.0</td>\n",
       "    </tr>\n",
       "    <tr>\n",
       "      <th>5</th>\n",
       "      <td>I-200-18142-939501</td>\n",
       "      <td>CERTIFIED</td>\n",
       "      <td>2018-05-22</td>\n",
       "      <td>2018-05-29</td>\n",
       "      <td>H-1B</td>\n",
       "      <td>2018-05-29</td>\n",
       "      <td>2021-05-28</td>\n",
       "      <td>OBERON IT</td>\n",
       "      <td>NaN</td>\n",
       "      <td>1404 W WALNUT HILL LN</td>\n",
       "      <td>...</td>\n",
       "      <td>N</td>\n",
       "      <td>Y</td>\n",
       "      <td>NaN</td>\n",
       "      <td>NaN</td>\n",
       "      <td>SUNRISE</td>\n",
       "      <td>BROWARD</td>\n",
       "      <td>FL</td>\n",
       "      <td>33323</td>\n",
       "      <td>NaT</td>\n",
       "      <td>168.0</td>\n",
       "    </tr>\n",
       "  </tbody>\n",
       "</table>\n",
       "<p>5 rows × 53 columns</p>\n",
       "</div>"
      ],
      "text/plain": [
       "          CASE_NUMBER CASE_STATUS CASE_SUBMITTED DECISION_DATE VISA_CLASS  \\\n",
       "0  I-200-18026-338377   CERTIFIED     2018-01-29    2018-02-02       H-1B   \n",
       "1  I-200-17296-353451   CERTIFIED     2017-10-23    2017-10-27       H-1B   \n",
       "2  I-200-18242-524477   CERTIFIED     2018-08-30    2018-09-06       H-1B   \n",
       "4  I-200-18243-850522   CERTIFIED     2018-08-31    2018-09-07       H-1B   \n",
       "5  I-200-18142-939501   CERTIFIED     2018-05-22    2018-05-29       H-1B   \n",
       "\n",
       "  EMPLOYMENT_START_DATE EMPLOYMENT_END_DATE           EMPLOYER_NAME  \\\n",
       "0            2018-07-28          2021-07-27   MICROSOFT CORPORATION   \n",
       "1            2017-11-06          2020-11-06  ERNST & YOUNG U.S. LLP   \n",
       "2            2018-09-10          2021-09-09            LOGIXHUB LLC   \n",
       "4            2018-09-07          2021-09-06        ECLOUD LABS,INC.   \n",
       "5            2018-05-29          2021-05-28               OBERON IT   \n",
       "\n",
       "  EMPLOYER_BUSINESS_DBA       EMPLOYER_ADDRESS   ...    WILLFUL_VIOLATOR  \\\n",
       "0                   NaN        1 MICROSOFT WAY   ...                   N   \n",
       "1                   NaN        200 PLAZA DRIVE   ...                   N   \n",
       "2                   NaN       320 DECKER DRIVE   ...                   N   \n",
       "4                   NaN      120 S WOOD AVENUE   ...                   N   \n",
       "5                   NaN  1404 W WALNUT HILL LN   ...                   N   \n",
       "\n",
       "  SUPPORT_H1B LABOR_CON_AGREE PUBLIC_DISCLOSURE_LOCATION WORKSITE_CITY  \\\n",
       "0         NaN             NaN                        NaN       REDMOND   \n",
       "1         NaN             NaN                        NaN   SANTA CLARA   \n",
       "2         NaN             NaN                        NaN        IRVING   \n",
       "4           Y               Y                        NaN    BIRMINGHAM   \n",
       "5           Y             NaN                        NaN       SUNRISE   \n",
       "\n",
       "  WORKSITE_COUNTY WORKSITE_STATE WORKSITE_POSTAL_CODE ORIGINAL_CERT_DATE  \\\n",
       "0            KING             WA                98052                NaT   \n",
       "1        SAN JOSE             CA                95110                NaT   \n",
       "2          DALLAS             TX                75062                NaT   \n",
       "4          SHELBY             AL                35244                NaT   \n",
       "5         BROWARD             FL                33323                NaT   \n",
       "\n",
       "  DURATION  \n",
       "0     96.0  \n",
       "1     96.0  \n",
       "2    168.0  \n",
       "4    168.0  \n",
       "5    168.0  \n",
       "\n",
       "[5 rows x 53 columns]"
      ]
     },
     "execution_count": 10,
     "metadata": {},
     "output_type": "execute_result"
    }
   ],
   "source": [
    "data_q4.head()"
   ]
  },
  {
   "cell_type": "code",
   "execution_count": 11,
   "metadata": {},
   "outputs": [
    {
     "name": "stdout",
     "output_type": "stream",
     "text": [
      "<class 'pandas.core.frame.DataFrame'>\n",
      "Int64Index: 654359 entries, 0 to 654359\n",
      "Data columns (total 53 columns):\n",
      "CASE_NUMBER                    654359 non-null object\n",
      "CASE_STATUS                    654359 non-null object\n",
      "CASE_SUBMITTED                 654359 non-null datetime64[ns]\n",
      "DECISION_DATE                  654359 non-null datetime64[ns]\n",
      "VISA_CLASS                     654359 non-null object\n",
      "EMPLOYMENT_START_DATE          654352 non-null datetime64[ns]\n",
      "EMPLOYMENT_END_DATE            654348 non-null datetime64[ns]\n",
      "EMPLOYER_NAME                  654340 non-null object\n",
      "EMPLOYER_BUSINESS_DBA          53490 non-null object\n",
      "EMPLOYER_ADDRESS               654348 non-null object\n",
      "EMPLOYER_CITY                  654348 non-null object\n",
      "EMPLOYER_STATE                 654286 non-null object\n",
      "EMPLOYER_POSTAL_CODE           654341 non-null object\n",
      "EMPLOYER_COUNTRY               654352 non-null object\n",
      "EMPLOYER_PROVINCE              6705 non-null object\n",
      "EMPLOYER_PHONE                 654352 non-null object\n",
      "EMPLOYER_PHONE_EXT             34052 non-null object\n",
      "AGENT_REPRESENTING_EMPLOYER    654341 non-null object\n",
      "AGENT_ATTORNEY_NAME            654359 non-null object\n",
      "AGENT_ATTORNEY_CITY            459117 non-null object\n",
      "AGENT_ATTORNEY_STATE           433453 non-null object\n",
      "JOB_TITLE                      654354 non-null object\n",
      "SOC_CODE                       654348 non-null object\n",
      "SOC_NAME                       654348 non-null object\n",
      "NAICS_CODE                     654353 non-null float64\n",
      "TOTAL_WORKERS                  654359 non-null int64\n",
      "NEW_EMPLOYMENT                 654359 non-null int64\n",
      "CONTINUED_EMPLOYMENT           654359 non-null int64\n",
      "CHANGE_PREVIOUS_EMPLOYMENT     654359 non-null int64\n",
      "NEW_CONCURRENT_EMP             654359 non-null int64\n",
      "CHANGE_EMPLOYER                654359 non-null int64\n",
      "AMENDED_PETITION               654359 non-null int64\n",
      "FULL_TIME_POSITION             654353 non-null object\n",
      "PREVAILING_WAGE                654356 non-null float64\n",
      "PW_UNIT_OF_PAY                 654302 non-null object\n",
      "PW_WAGE_LEVEL                  616141 non-null object\n",
      "PW_SOURCE                      654304 non-null object\n",
      "PW_SOURCE_YEAR                 654292 non-null float64\n",
      "PW_SOURCE_OTHER                647701 non-null object\n",
      "WAGE_RATE_OF_PAY_FROM          654359 non-null float64\n",
      "WAGE_RATE_OF_PAY_TO            654356 non-null float64\n",
      "WAGE_UNIT_OF_PAY               654346 non-null object\n",
      "H1B_DEPENDENT                  640203 non-null object\n",
      "WILLFUL_VIOLATOR               640198 non-null object\n",
      "SUPPORT_H1B                    233533 non-null object\n",
      "LABOR_CON_AGREE                235929 non-null object\n",
      "PUBLIC_DISCLOSURE_LOCATION     0 non-null float64\n",
      "WORKSITE_CITY                  654337 non-null object\n",
      "WORKSITE_COUNTY                653427 non-null object\n",
      "WORKSITE_STATE                 654344 non-null object\n",
      "WORKSITE_POSTAL_CODE           654329 non-null object\n",
      "ORIGINAL_CERT_DATE             44974 non-null datetime64[ns]\n",
      "DURATION                       654359 non-null float64\n",
      "dtypes: datetime64[ns](5), float64(7), int64(7), object(34)\n",
      "memory usage: 269.6+ MB\n"
     ]
    }
   ],
   "source": [
    "data_q4.info()"
   ]
  },
  {
   "cell_type": "markdown",
   "metadata": {},
   "source": [
    "##  Categorical Data - Features & Label"
   ]
  },
  {
   "cell_type": "code",
   "execution_count": 16,
   "metadata": {
    "scrolled": true
   },
   "outputs": [
    {
     "data": {
      "text/plain": [
       "DELOITTE CONSULTING LLP                            16140\n",
       "TATA CONSULTANCY SERVICES LIMITED                  14604\n",
       "INFOSYS LIMITED                                    11591\n",
       "COGNIZANT TECHNOLOGY SOLUTIONS US CORP             11086\n",
       "ERNST & YOUNG U.S. LLP                              6892\n",
       "ACCENTURE LLP                                       6381\n",
       "WIPRO LIMITED                                       6306\n",
       "GOOGLE LLC                                          6099\n",
       "CAPGEMINI AMERICA INC                               6064\n",
       "TECH MAHINDRA (AMERICAS),INC.                       5835\n",
       "MICROSOFT CORPORATION                               5552\n",
       "IBM CORPORATION                                     5167\n",
       "AMAZON.COM SERVICES, INC.                           3894\n",
       "SYNTEL INC                                          3341\n",
       "IBM INDIA PRIVATE LIMITED                           3152\n",
       "LARSEN & TOUBRO INFOTECH LIMITED                    3107\n",
       "FACEBOOK, INC.                                      2731\n",
       "HCL AMERICA, INC.                                   2530\n",
       "COGNIZANT TECHNOLOGY SOLUTIONS U.S. CORPORATION     1988\n",
       "APPLE INC.                                          1964\n",
       "JPMORGAN CHASE & CO.                                1916\n",
       "PRICEWATERHOUSECOOPERS ADVISORY SERVICES LLC        1737\n",
       "COMPUNNEL SOFTWARE GROUP, INC.                      1728\n",
       "HEXAWARE TECHNOLOGIES, INC.                         1626\n",
       "KFORCE INC.                                         1609\n",
       "WAL-MART ASSOCIATES, INC.                           1592\n",
       "DELOITTE & TOUCHE LLP                               1586\n",
       "L&T TECHNOLOGY SERVICES LIMITED                     1449\n",
       "NTT DATA, INC.                                      1338\n",
       "VIRTUSA CORPORATION                                 1249\n",
       "                                                   ...  \n",
       "VALUEACT CAPITAL MANAGEMENT, L.P.                      1\n",
       "SYNEGRATE                                              1\n",
       "ROYAL MANUFACTURING INC.                               1\n",
       "PUBLIC HOSPITAL DISTRICT #1-A OF WHITMAN COUNTY        1\n",
       "TASKUS, INC.                                           1\n",
       "NEPTUNE TECHNOLOGY GROUP INC.(ROPER ENTITY)            1\n",
       "INFORMATION TECHNOLOGY STRATEGIES, LLC                 1\n",
       "BOSS HUNTING LLC                                       1\n",
       "NAVIENCE HEALTHCARE SOLUTIONS, LLC                     1\n",
       "ASHTEL STUDIOS, INC                                    1\n",
       "HAVVEN US LIMITED INC                                  1\n",
       "WCF MUTUAL INSURANCE                                   1\n",
       "PORTER ASSET MANAGEMENT LLC                            1\n",
       "COMFYLIFE, INC.                                        1\n",
       "SPONSERVE USA INC                                      1\n",
       "WEST VIRGINIA UNIVERSITY HOSPITALS, INC.               1\n",
       "MCCABE & TOTAH, LLP                                    1\n",
       "NEW IBERIA HOLDINGS, INC.                              1\n",
       "STUDIO 27 ARCHITECTURE, PLLC                           1\n",
       "ROBERT GROTH INVESTMENTS INC.                          1\n",
       "LEAD INCLUSIVELY, INC.                                 1\n",
       "DCD CONSTRUCTION, LLC                                  1\n",
       "ASSOCIATES IN PULMONARY AND CRITICAL CARE, LTD         1\n",
       "HYOSUNG USA INC                                        1\n",
       "SANARIA, INC.                                          1\n",
       "CAREPOINT ACUPUNCTURE P.C.                             1\n",
       "BATTLE MOUNTAIN GENERAL HOSPITAL                       1\n",
       "PEDDINGHAUS CORPORATION                                1\n",
       "NET2SOURCE INC                                         1\n",
       "GUANJIAYING FLANGE FORGING COMPANY                     1\n",
       "Name: EMPLOYER_NAME, Length: 70564, dtype: int64"
      ]
     },
     "execution_count": 16,
     "metadata": {},
     "output_type": "execute_result"
    }
   ],
   "source": [
    "# Top Employers\n",
    "data_q4['EMPLOYER_NAME'].value_counts()"
   ]
  },
  {
   "cell_type": "code",
   "execution_count": 17,
   "metadata": {},
   "outputs": [],
   "source": [
    "imp_companies = data_q4['EMPLOYER_NAME'].value_counts().index[:50]"
   ]
  },
  {
   "cell_type": "code",
   "execution_count": 18,
   "metadata": {},
   "outputs": [
    {
     "name": "stderr",
     "output_type": "stream",
     "text": [
      "/anaconda3/lib/python3.6/site-packages/pandas/core/indexing.py:189: SettingWithCopyWarning: \n",
      "A value is trying to be set on a copy of a slice from a DataFrame\n",
      "\n",
      "See the caveats in the documentation: http://pandas.pydata.org/pandas-docs/stable/indexing.html#indexing-view-versus-copy\n",
      "  self._setitem_with_indexer(indexer, value)\n"
     ]
    }
   ],
   "source": [
    "data_q4['EMPLOYER_NAME'].loc[~data_q4['EMPLOYER_NAME'].isin(imp_companies)] = 'Other'"
   ]
  },
  {
   "cell_type": "code",
   "execution_count": 19,
   "metadata": {
    "scrolled": true
   },
   "outputs": [
    {
     "data": {
      "text/plain": [
       "Other                                                                  493653\n",
       "DELOITTE CONSULTING LLP                                                 16140\n",
       "TATA CONSULTANCY SERVICES LIMITED                                       14604\n",
       "INFOSYS LIMITED                                                         11591\n",
       "COGNIZANT TECHNOLOGY SOLUTIONS US CORP                                  11086\n",
       "ERNST & YOUNG U.S. LLP                                                   6892\n",
       "ACCENTURE LLP                                                            6381\n",
       "WIPRO LIMITED                                                            6306\n",
       "GOOGLE LLC                                                               6099\n",
       "CAPGEMINI AMERICA INC                                                    6064\n",
       "TECH MAHINDRA (AMERICAS),INC.                                            5835\n",
       "MICROSOFT CORPORATION                                                    5552\n",
       "IBM CORPORATION                                                          5167\n",
       "AMAZON.COM SERVICES, INC.                                                3894\n",
       "SYNTEL INC                                                               3341\n",
       "IBM INDIA PRIVATE LIMITED                                                3152\n",
       "LARSEN & TOUBRO INFOTECH LIMITED                                         3107\n",
       "FACEBOOK, INC.                                                           2731\n",
       "HCL AMERICA, INC.                                                        2530\n",
       "COGNIZANT TECHNOLOGY SOLUTIONS U.S. CORPORATION                          1988\n",
       "APPLE INC.                                                               1964\n",
       "JPMORGAN CHASE & CO.                                                     1916\n",
       "PRICEWATERHOUSECOOPERS ADVISORY SERVICES LLC                             1737\n",
       "COMPUNNEL SOFTWARE GROUP, INC.                                           1728\n",
       "HEXAWARE TECHNOLOGIES, INC.                                              1626\n",
       "KFORCE INC.                                                              1609\n",
       "WAL-MART ASSOCIATES, INC.                                                1592\n",
       "DELOITTE & TOUCHE LLP                                                    1586\n",
       "L&T TECHNOLOGY SERVICES LIMITED                                          1449\n",
       "NTT DATA, INC.                                                           1338\n",
       "VIRTUSA CORPORATION                                                      1249\n",
       "SALESFORCE.COM INC.                                                      1169\n",
       "BANK OF AMERICA N.A.                                                     1158\n",
       "INTEL CORPORATION                                                        1130\n",
       "UBER TECHNOLOGIES, INC.                                                  1129\n",
       "PRICEWATERHOUSECOOPERS LLP                                               1126\n",
       "KPMG LLP                                                                 1103\n",
       "TESLA, INC.                                                              1077\n",
       "PAYPAL, INC.                                                             1029\n",
       "MASTECH DIGITAL TECHNOLOGIES, INC., A MASTECH DIGITAL, INC. COMPANY      1027\n",
       "VMWARE, INC.                                                             1009\n",
       "AMAZON WEB SERVICES, INC.                                                1008\n",
       "GOLDMAN SACHS & CO. LLC                                                  1002\n",
       "POPULUS GROUP LLC                                                        1000\n",
       "PEOPLE TECH GROUP INC.                                                    959\n",
       "EBAY INC.                                                                 952\n",
       "RANDSTAD TECHNOLOGIES, LLC                                                936\n",
       "MINDTREE LIMITED                                                          918\n",
       "UST GLOBAL INC.                                                           911\n",
       "LINKEDIN CORPORATION                                                      905\n",
       "V-SOFT CONSULTING GROUP, INC                                              904\n",
       "Name: EMPLOYER_NAME, dtype: int64"
      ]
     },
     "execution_count": 19,
     "metadata": {},
     "output_type": "execute_result"
    }
   ],
   "source": [
    "# Validation\n",
    "data_q4['EMPLOYER_NAME'].value_counts()"
   ]
  },
  {
   "cell_type": "code",
   "execution_count": 20,
   "metadata": {},
   "outputs": [],
   "source": [
    "top_jobs = data_q4['JOB_TITLE'].value_counts().index[:50]"
   ]
  },
  {
   "cell_type": "code",
   "execution_count": 21,
   "metadata": {},
   "outputs": [
    {
     "name": "stderr",
     "output_type": "stream",
     "text": [
      "/anaconda3/lib/python3.6/site-packages/pandas/core/indexing.py:189: SettingWithCopyWarning: \n",
      "A value is trying to be set on a copy of a slice from a DataFrame\n",
      "\n",
      "See the caveats in the documentation: http://pandas.pydata.org/pandas-docs/stable/indexing.html#indexing-view-versus-copy\n",
      "  self._setitem_with_indexer(indexer, value)\n"
     ]
    }
   ],
   "source": [
    "data_q4['JOB_TITLE'].loc[~data_q4['JOB_TITLE'].isin(top_jobs)] = 'Other'"
   ]
  },
  {
   "cell_type": "code",
   "execution_count": 22,
   "metadata": {},
   "outputs": [
    {
     "data": {
      "text/plain": [
       "Other                                  437175\n",
       "SOFTWARE DEVELOPER                      34907\n",
       "SOFTWARE ENGINEER                       31942\n",
       "PROGRAMMER ANALYST                      14109\n",
       "SENIOR SOFTWARE ENGINEER                 8430\n",
       "SENIOR SYSTEMS ANALYST JC60              7041\n",
       "DEVELOPER                                6244\n",
       "SYSTEMS ANALYST                          6131\n",
       "CONSULTANT                               6004\n",
       "ASSISTANT PROFESSOR                      5302\n",
       "BUSINESS ANALYST                         5145\n",
       "SENIOR CONSULTANT                        4925\n",
       "ANALYST                                  4821\n",
       "PROJECT MANAGER                          3904\n",
       "JAVA DEVELOPER                           3578\n",
       "SENIOR SOFTWARE DEVELOPER                3516\n",
       "ASSOCIATE                                3501\n",
       "COMPUTER SYSTEMS ANALYST                 3337\n",
       "DATABASE ADMINISTRATOR                   2980\n",
       "ENGINEER                                 2927\n",
       "COMPUTER PROGRAMMER                      2926\n",
       "APPLICATION DEVELOPER                    2872\n",
       "PHYSICAL THERAPIST                       2642\n",
       "DEVELOPER USER INTERFACE                 2577\n",
       "MANAGER JC50                             2490\n",
       "MANAGER                                  2404\n",
       "SYSTEMS ENGINEER                         2385\n",
       "TECHNOLOGY LEAD - US                     2333\n",
       "DATA SCIENTIST                           2273\n",
       "ACCOUNTANT                               2207\n",
       "LEAD ENGINEER                            2203\n",
       "NETWORK ENGINEER                         2020\n",
       "TECHNOLOGY LEAD - US - PRACTITIONER      1901\n",
       "RESEARCH ASSOCIATE                       1797\n",
       "TECHNICAL LEAD                           1768\n",
       "SR. SOFTWARE ENGINEER                    1726\n",
       "BUSINESS SYSTEMS ANALYST                 1721\n",
       "COMPUTER SYSTEMS ANALYSTS                1709\n",
       "MECHANICAL ENGINEER                      1705\n",
       "ARCHITECT                                1669\n",
       "PROJECT ENGINEER                         1546\n",
       "SOFTWARE DEVELOPMENT ENGINEER II         1543\n",
       "DATA ANALYST                             1514\n",
       "FINANCIAL ANALYST                        1502\n",
       "DEVOPS ENGINEER                          1466\n",
       "SOFTWARE DEVELOPMENT ENGINEER            1442\n",
       "COMPUTER SYSTEMS ENGINEER                1281\n",
       "QA ANALYST                               1280\n",
       "ACCOUNTANTS AND AUDITORS                 1190\n",
       "VICE PRESIDENT                           1190\n",
       "DESIGN ENGINEER                          1158\n",
       "Name: JOB_TITLE, dtype: int64"
      ]
     },
     "execution_count": 22,
     "metadata": {},
     "output_type": "execute_result"
    }
   ],
   "source": [
    "data_q4['JOB_TITLE'].value_counts()"
   ]
  },
  {
   "cell_type": "code",
   "execution_count": 23,
   "metadata": {},
   "outputs": [],
   "source": [
    "wage_level = data_q4['PW_WAGE_LEVEL'].value_counts().index[:50]"
   ]
  },
  {
   "cell_type": "code",
   "execution_count": 24,
   "metadata": {
    "scrolled": true
   },
   "outputs": [
    {
     "name": "stderr",
     "output_type": "stream",
     "text": [
      "/anaconda3/lib/python3.6/site-packages/pandas/core/indexing.py:189: SettingWithCopyWarning: \n",
      "A value is trying to be set on a copy of a slice from a DataFrame\n",
      "\n",
      "See the caveats in the documentation: http://pandas.pydata.org/pandas-docs/stable/indexing.html#indexing-view-versus-copy\n",
      "  self._setitem_with_indexer(indexer, value)\n"
     ]
    }
   ],
   "source": [
    "data_q4['PW_WAGE_LEVEL'].loc[~data_q4['PW_WAGE_LEVEL'].isin(wage_level)] = 'Other'"
   ]
  },
  {
   "cell_type": "code",
   "execution_count": 25,
   "metadata": {},
   "outputs": [
    {
     "data": {
      "text/plain": [
       "Level II     330833\n",
       "Level I      111751\n",
       "Level III    110846\n",
       "Level IV      62711\n",
       "Other         38218\n",
       "Name: PW_WAGE_LEVEL, dtype: int64"
      ]
     },
     "execution_count": 25,
     "metadata": {},
     "output_type": "execute_result"
    }
   ],
   "source": [
    "data_q4['PW_WAGE_LEVEL'].value_counts()"
   ]
  },
  {
   "cell_type": "code",
   "execution_count": 26,
   "metadata": {},
   "outputs": [],
   "source": [
    "top_zipcodes = data_q4['WORKSITE_POSTAL_CODE'].value_counts().index[:50]"
   ]
  },
  {
   "cell_type": "code",
   "execution_count": 27,
   "metadata": {},
   "outputs": [
    {
     "name": "stderr",
     "output_type": "stream",
     "text": [
      "/anaconda3/lib/python3.6/site-packages/pandas/core/indexing.py:189: SettingWithCopyWarning: \n",
      "A value is trying to be set on a copy of a slice from a DataFrame\n",
      "\n",
      "See the caveats in the documentation: http://pandas.pydata.org/pandas-docs/stable/indexing.html#indexing-view-versus-copy\n",
      "  self._setitem_with_indexer(indexer, value)\n"
     ]
    }
   ],
   "source": [
    "data_q4['WORKSITE_POSTAL_CODE'].loc[~data_q4['WORKSITE_POSTAL_CODE'].isin(top_zipcodes)] = 'Other'"
   ]
  },
  {
   "cell_type": "code",
   "execution_count": 28,
   "metadata": {},
   "outputs": [
    {
     "data": {
      "text/plain": [
       "Other    507875\n",
       "94043      7195\n",
       "98052      6977\n",
       "94105      6747\n",
       "19103      5373\n",
       "95054      5023\n",
       "94085      4722\n",
       "95134      4405\n",
       "75024      4279\n",
       "60606      3997\n",
       "10036      3710\n",
       "94089      3690\n",
       "94103      3207\n",
       "94025      2955\n",
       "22102      2914\n",
       "94107      2893\n",
       "98004      2872\n",
       "75039      2866\n",
       "10017      2827\n",
       "94304      2794\n",
       "10019      2758\n",
       "95131      2662\n",
       "94538      2626\n",
       "10022      2585\n",
       "98109      2460\n",
       "10001      2431\n",
       "28202      2416\n",
       "60015      2401\n",
       "98101      2324\n",
       "30005      2300\n",
       "07302      2262\n",
       "08540      2193\n",
       "94588      2187\n",
       "08873      2163\n",
       "98121      2162\n",
       "95014      2125\n",
       "77002      2043\n",
       "75201      2022\n",
       "75063      1993\n",
       "95035      1983\n",
       "48326      1976\n",
       "30339      1973\n",
       "10004      1945\n",
       "10005      1921\n",
       "10018      1906\n",
       "94111      1902\n",
       "75038      1894\n",
       "08854      1878\n",
       "94404      1874\n",
       "27709      1837\n",
       "28262      1836\n",
       "Name: WORKSITE_POSTAL_CODE, dtype: int64"
      ]
     },
     "execution_count": 28,
     "metadata": {},
     "output_type": "execute_result"
    }
   ],
   "source": [
    "data_q4['WORKSITE_POSTAL_CODE'].value_counts()"
   ]
  },
  {
   "cell_type": "code",
   "execution_count": 29,
   "metadata": {},
   "outputs": [],
   "source": [
    "# Fill out the missing observations for the variables with the most frequent one\n",
    "data_q4 = data_q4.fillna({\"AGENT_REPRESENTING_EMPLOYER\":\"Y\"})\n",
    "data_q4 = data_q4.fillna({\"FULL_TIME_POSITION\": \"Y\"})"
   ]
  },
  {
   "cell_type": "code",
   "execution_count": 30,
   "metadata": {
    "scrolled": true
   },
   "outputs": [
    {
     "data": {
      "text/html": [
       "<div>\n",
       "<style scoped>\n",
       "    .dataframe tbody tr th:only-of-type {\n",
       "        vertical-align: middle;\n",
       "    }\n",
       "\n",
       "    .dataframe tbody tr th {\n",
       "        vertical-align: top;\n",
       "    }\n",
       "\n",
       "    .dataframe thead th {\n",
       "        text-align: right;\n",
       "    }\n",
       "</style>\n",
       "<table border=\"1\" class=\"dataframe\">\n",
       "  <thead>\n",
       "    <tr style=\"text-align: right;\">\n",
       "      <th></th>\n",
       "      <th>EMPLOYER_NAME</th>\n",
       "      <th>JOB_TITLE</th>\n",
       "      <th>FULL_TIME_POSITION</th>\n",
       "      <th>DURATION</th>\n",
       "      <th>WAGE_RATE_OF_PAY_FROM</th>\n",
       "      <th>WORKSITE_POSTAL_CODE</th>\n",
       "      <th>PW_WAGE_LEVEL</th>\n",
       "    </tr>\n",
       "  </thead>\n",
       "  <tbody>\n",
       "    <tr>\n",
       "      <th>0</th>\n",
       "      <td>MICROSOFT CORPORATION</td>\n",
       "      <td>SOFTWARE ENGINEER</td>\n",
       "      <td>Y</td>\n",
       "      <td>96.0</td>\n",
       "      <td>143915.0</td>\n",
       "      <td>98052</td>\n",
       "      <td>Level II</td>\n",
       "    </tr>\n",
       "    <tr>\n",
       "      <th>1</th>\n",
       "      <td>ERNST &amp; YOUNG U.S. LLP</td>\n",
       "      <td>Other</td>\n",
       "      <td>Y</td>\n",
       "      <td>96.0</td>\n",
       "      <td>100000.0</td>\n",
       "      <td>Other</td>\n",
       "      <td>Level II</td>\n",
       "    </tr>\n",
       "    <tr>\n",
       "      <th>2</th>\n",
       "      <td>Other</td>\n",
       "      <td>DATABASE ADMINISTRATOR</td>\n",
       "      <td>Y</td>\n",
       "      <td>168.0</td>\n",
       "      <td>78240.0</td>\n",
       "      <td>Other</td>\n",
       "      <td>Level II</td>\n",
       "    </tr>\n",
       "    <tr>\n",
       "      <th>4</th>\n",
       "      <td>Other</td>\n",
       "      <td>Other</td>\n",
       "      <td>Y</td>\n",
       "      <td>168.0</td>\n",
       "      <td>95000.0</td>\n",
       "      <td>Other</td>\n",
       "      <td>Level III</td>\n",
       "    </tr>\n",
       "    <tr>\n",
       "      <th>5</th>\n",
       "      <td>Other</td>\n",
       "      <td>Other</td>\n",
       "      <td>Y</td>\n",
       "      <td>168.0</td>\n",
       "      <td>74000.0</td>\n",
       "      <td>Other</td>\n",
       "      <td>Level II</td>\n",
       "    </tr>\n",
       "  </tbody>\n",
       "</table>\n",
       "</div>"
      ],
      "text/plain": [
       "            EMPLOYER_NAME               JOB_TITLE FULL_TIME_POSITION  \\\n",
       "0   MICROSOFT CORPORATION       SOFTWARE ENGINEER                  Y   \n",
       "1  ERNST & YOUNG U.S. LLP                   Other                  Y   \n",
       "2                   Other  DATABASE ADMINISTRATOR                  Y   \n",
       "4                   Other                   Other                  Y   \n",
       "5                   Other                   Other                  Y   \n",
       "\n",
       "   DURATION  WAGE_RATE_OF_PAY_FROM WORKSITE_POSTAL_CODE PW_WAGE_LEVEL  \n",
       "0      96.0               143915.0                98052      Level II  \n",
       "1      96.0               100000.0                Other      Level II  \n",
       "2     168.0                78240.0                Other      Level II  \n",
       "4     168.0                95000.0                Other     Level III  \n",
       "5     168.0                74000.0                Other      Level II  "
      ]
     },
     "execution_count": 30,
     "metadata": {},
     "output_type": "execute_result"
    }
   ],
   "source": [
    "features = data_q4[['EMPLOYER_NAME', 'JOB_TITLE', 'FULL_TIME_POSITION', 'DURATION', 'WAGE_RATE_OF_PAY_FROM','WORKSITE_POSTAL_CODE','PW_WAGE_LEVEL']]\n",
    "features.head()"
   ]
  },
  {
   "cell_type": "code",
   "execution_count": 31,
   "metadata": {
    "scrolled": true
   },
   "outputs": [
    {
     "name": "stdout",
     "output_type": "stream",
     "text": [
      "<class 'pandas.core.frame.DataFrame'>\n",
      "Int64Index: 654359 entries, 0 to 654359\n",
      "Data columns (total 7 columns):\n",
      "EMPLOYER_NAME            654359 non-null object\n",
      "JOB_TITLE                654359 non-null object\n",
      "FULL_TIME_POSITION       654359 non-null object\n",
      "DURATION                 654359 non-null float64\n",
      "WAGE_RATE_OF_PAY_FROM    654359 non-null float64\n",
      "WORKSITE_POSTAL_CODE     654359 non-null object\n",
      "PW_WAGE_LEVEL            654359 non-null object\n",
      "dtypes: float64(2), object(5)\n",
      "memory usage: 39.9+ MB\n"
     ]
    }
   ],
   "source": [
    "features.info()"
   ]
  },
  {
   "cell_type": "code",
   "execution_count": 32,
   "metadata": {},
   "outputs": [],
   "source": [
    "features_enc = pd.get_dummies(features)"
   ]
  },
  {
   "cell_type": "code",
   "execution_count": 33,
   "metadata": {},
   "outputs": [
    {
     "data": {
      "text/html": [
       "<div>\n",
       "<style scoped>\n",
       "    .dataframe tbody tr th:only-of-type {\n",
       "        vertical-align: middle;\n",
       "    }\n",
       "\n",
       "    .dataframe tbody tr th {\n",
       "        vertical-align: top;\n",
       "    }\n",
       "\n",
       "    .dataframe thead th {\n",
       "        text-align: right;\n",
       "    }\n",
       "</style>\n",
       "<table border=\"1\" class=\"dataframe\">\n",
       "  <thead>\n",
       "    <tr style=\"text-align: right;\">\n",
       "      <th></th>\n",
       "      <th>DURATION</th>\n",
       "      <th>WAGE_RATE_OF_PAY_FROM</th>\n",
       "      <th>EMPLOYER_NAME_ACCENTURE LLP</th>\n",
       "      <th>EMPLOYER_NAME_AMAZON WEB SERVICES, INC.</th>\n",
       "      <th>EMPLOYER_NAME_AMAZON.COM SERVICES, INC.</th>\n",
       "      <th>EMPLOYER_NAME_APPLE INC.</th>\n",
       "      <th>EMPLOYER_NAME_BANK OF AMERICA N.A.</th>\n",
       "      <th>EMPLOYER_NAME_CAPGEMINI AMERICA INC</th>\n",
       "      <th>EMPLOYER_NAME_COGNIZANT TECHNOLOGY SOLUTIONS U.S. CORPORATION</th>\n",
       "      <th>EMPLOYER_NAME_COGNIZANT TECHNOLOGY SOLUTIONS US CORP</th>\n",
       "      <th>...</th>\n",
       "      <th>WORKSITE_POSTAL_CODE_98052</th>\n",
       "      <th>WORKSITE_POSTAL_CODE_98101</th>\n",
       "      <th>WORKSITE_POSTAL_CODE_98109</th>\n",
       "      <th>WORKSITE_POSTAL_CODE_98121</th>\n",
       "      <th>WORKSITE_POSTAL_CODE_Other</th>\n",
       "      <th>PW_WAGE_LEVEL_Level I</th>\n",
       "      <th>PW_WAGE_LEVEL_Level II</th>\n",
       "      <th>PW_WAGE_LEVEL_Level III</th>\n",
       "      <th>PW_WAGE_LEVEL_Level IV</th>\n",
       "      <th>PW_WAGE_LEVEL_Other</th>\n",
       "    </tr>\n",
       "  </thead>\n",
       "  <tbody>\n",
       "    <tr>\n",
       "      <th>0</th>\n",
       "      <td>96.0</td>\n",
       "      <td>143915.0</td>\n",
       "      <td>0</td>\n",
       "      <td>0</td>\n",
       "      <td>0</td>\n",
       "      <td>0</td>\n",
       "      <td>0</td>\n",
       "      <td>0</td>\n",
       "      <td>0</td>\n",
       "      <td>0</td>\n",
       "      <td>...</td>\n",
       "      <td>1</td>\n",
       "      <td>0</td>\n",
       "      <td>0</td>\n",
       "      <td>0</td>\n",
       "      <td>0</td>\n",
       "      <td>0</td>\n",
       "      <td>1</td>\n",
       "      <td>0</td>\n",
       "      <td>0</td>\n",
       "      <td>0</td>\n",
       "    </tr>\n",
       "    <tr>\n",
       "      <th>1</th>\n",
       "      <td>96.0</td>\n",
       "      <td>100000.0</td>\n",
       "      <td>0</td>\n",
       "      <td>0</td>\n",
       "      <td>0</td>\n",
       "      <td>0</td>\n",
       "      <td>0</td>\n",
       "      <td>0</td>\n",
       "      <td>0</td>\n",
       "      <td>0</td>\n",
       "      <td>...</td>\n",
       "      <td>0</td>\n",
       "      <td>0</td>\n",
       "      <td>0</td>\n",
       "      <td>0</td>\n",
       "      <td>1</td>\n",
       "      <td>0</td>\n",
       "      <td>1</td>\n",
       "      <td>0</td>\n",
       "      <td>0</td>\n",
       "      <td>0</td>\n",
       "    </tr>\n",
       "    <tr>\n",
       "      <th>2</th>\n",
       "      <td>168.0</td>\n",
       "      <td>78240.0</td>\n",
       "      <td>0</td>\n",
       "      <td>0</td>\n",
       "      <td>0</td>\n",
       "      <td>0</td>\n",
       "      <td>0</td>\n",
       "      <td>0</td>\n",
       "      <td>0</td>\n",
       "      <td>0</td>\n",
       "      <td>...</td>\n",
       "      <td>0</td>\n",
       "      <td>0</td>\n",
       "      <td>0</td>\n",
       "      <td>0</td>\n",
       "      <td>1</td>\n",
       "      <td>0</td>\n",
       "      <td>1</td>\n",
       "      <td>0</td>\n",
       "      <td>0</td>\n",
       "      <td>0</td>\n",
       "    </tr>\n",
       "    <tr>\n",
       "      <th>4</th>\n",
       "      <td>168.0</td>\n",
       "      <td>95000.0</td>\n",
       "      <td>0</td>\n",
       "      <td>0</td>\n",
       "      <td>0</td>\n",
       "      <td>0</td>\n",
       "      <td>0</td>\n",
       "      <td>0</td>\n",
       "      <td>0</td>\n",
       "      <td>0</td>\n",
       "      <td>...</td>\n",
       "      <td>0</td>\n",
       "      <td>0</td>\n",
       "      <td>0</td>\n",
       "      <td>0</td>\n",
       "      <td>1</td>\n",
       "      <td>0</td>\n",
       "      <td>0</td>\n",
       "      <td>1</td>\n",
       "      <td>0</td>\n",
       "      <td>0</td>\n",
       "    </tr>\n",
       "    <tr>\n",
       "      <th>5</th>\n",
       "      <td>168.0</td>\n",
       "      <td>74000.0</td>\n",
       "      <td>0</td>\n",
       "      <td>0</td>\n",
       "      <td>0</td>\n",
       "      <td>0</td>\n",
       "      <td>0</td>\n",
       "      <td>0</td>\n",
       "      <td>0</td>\n",
       "      <td>0</td>\n",
       "      <td>...</td>\n",
       "      <td>0</td>\n",
       "      <td>0</td>\n",
       "      <td>0</td>\n",
       "      <td>0</td>\n",
       "      <td>1</td>\n",
       "      <td>0</td>\n",
       "      <td>1</td>\n",
       "      <td>0</td>\n",
       "      <td>0</td>\n",
       "      <td>0</td>\n",
       "    </tr>\n",
       "  </tbody>\n",
       "</table>\n",
       "<p>5 rows × 162 columns</p>\n",
       "</div>"
      ],
      "text/plain": [
       "   DURATION  WAGE_RATE_OF_PAY_FROM  EMPLOYER_NAME_ACCENTURE LLP  \\\n",
       "0      96.0               143915.0                            0   \n",
       "1      96.0               100000.0                            0   \n",
       "2     168.0                78240.0                            0   \n",
       "4     168.0                95000.0                            0   \n",
       "5     168.0                74000.0                            0   \n",
       "\n",
       "   EMPLOYER_NAME_AMAZON WEB SERVICES, INC.  \\\n",
       "0                                        0   \n",
       "1                                        0   \n",
       "2                                        0   \n",
       "4                                        0   \n",
       "5                                        0   \n",
       "\n",
       "   EMPLOYER_NAME_AMAZON.COM SERVICES, INC.  EMPLOYER_NAME_APPLE INC.  \\\n",
       "0                                        0                         0   \n",
       "1                                        0                         0   \n",
       "2                                        0                         0   \n",
       "4                                        0                         0   \n",
       "5                                        0                         0   \n",
       "\n",
       "   EMPLOYER_NAME_BANK OF AMERICA N.A.  EMPLOYER_NAME_CAPGEMINI AMERICA INC  \\\n",
       "0                                   0                                    0   \n",
       "1                                   0                                    0   \n",
       "2                                   0                                    0   \n",
       "4                                   0                                    0   \n",
       "5                                   0                                    0   \n",
       "\n",
       "   EMPLOYER_NAME_COGNIZANT TECHNOLOGY SOLUTIONS U.S. CORPORATION  \\\n",
       "0                                                  0               \n",
       "1                                                  0               \n",
       "2                                                  0               \n",
       "4                                                  0               \n",
       "5                                                  0               \n",
       "\n",
       "   EMPLOYER_NAME_COGNIZANT TECHNOLOGY SOLUTIONS US CORP         ...           \\\n",
       "0                                                  0            ...            \n",
       "1                                                  0            ...            \n",
       "2                                                  0            ...            \n",
       "4                                                  0            ...            \n",
       "5                                                  0            ...            \n",
       "\n",
       "   WORKSITE_POSTAL_CODE_98052  WORKSITE_POSTAL_CODE_98101  \\\n",
       "0                           1                           0   \n",
       "1                           0                           0   \n",
       "2                           0                           0   \n",
       "4                           0                           0   \n",
       "5                           0                           0   \n",
       "\n",
       "   WORKSITE_POSTAL_CODE_98109  WORKSITE_POSTAL_CODE_98121  \\\n",
       "0                           0                           0   \n",
       "1                           0                           0   \n",
       "2                           0                           0   \n",
       "4                           0                           0   \n",
       "5                           0                           0   \n",
       "\n",
       "   WORKSITE_POSTAL_CODE_Other  PW_WAGE_LEVEL_Level I  PW_WAGE_LEVEL_Level II  \\\n",
       "0                           0                      0                       1   \n",
       "1                           1                      0                       1   \n",
       "2                           1                      0                       1   \n",
       "4                           1                      0                       0   \n",
       "5                           1                      0                       1   \n",
       "\n",
       "   PW_WAGE_LEVEL_Level III  PW_WAGE_LEVEL_Level IV  PW_WAGE_LEVEL_Other  \n",
       "0                        0                       0                    0  \n",
       "1                        0                       0                    0  \n",
       "2                        0                       0                    0  \n",
       "4                        1                       0                    0  \n",
       "5                        0                       0                    0  \n",
       "\n",
       "[5 rows x 162 columns]"
      ]
     },
     "execution_count": 33,
     "metadata": {},
     "output_type": "execute_result"
    }
   ],
   "source": [
    "features_enc.head()"
   ]
  },
  {
   "cell_type": "code",
   "execution_count": 34,
   "metadata": {
    "scrolled": true
   },
   "outputs": [
    {
     "data": {
      "text/plain": [
       "0     CERTIFIED\n",
       "1     CERTIFIED\n",
       "2     CERTIFIED\n",
       "4     CERTIFIED\n",
       "5     CERTIFIED\n",
       "6     CERTIFIED\n",
       "7     CERTIFIED\n",
       "8     CERTIFIED\n",
       "9     CERTIFIED\n",
       "10    CERTIFIED\n",
       "Name: CASE_STATUS, dtype: object"
      ]
     },
     "execution_count": 34,
     "metadata": {},
     "output_type": "execute_result"
    }
   ],
   "source": [
    "# Label- What I want to predict?\n",
    "data_q4['CASE_STATUS'].head(10)\n"
   ]
  },
  {
   "cell_type": "code",
   "execution_count": 35,
   "metadata": {
    "scrolled": false
   },
   "outputs": [
    {
     "name": "stderr",
     "output_type": "stream",
     "text": [
      "/anaconda3/lib/python3.6/site-packages/pandas/core/indexing.py:189: SettingWithCopyWarning: \n",
      "A value is trying to be set on a copy of a slice from a DataFrame\n",
      "\n",
      "See the caveats in the documentation: http://pandas.pydata.org/pandas-docs/stable/indexing.html#indexing-view-versus-copy\n",
      "  self._setitem_with_indexer(indexer, value)\n"
     ]
    }
   ],
   "source": [
    "data_q4['CASE_STATUS'].loc[data_q4['CASE_STATUS'] != 'CERTIFIED'] = 0\n",
    "data_q4['CASE_STATUS'].loc[data_q4['CASE_STATUS'] == 'CERTIFIED'] = 1"
   ]
  },
  {
   "cell_type": "code",
   "execution_count": 36,
   "metadata": {
    "scrolled": false
   },
   "outputs": [
    {
     "data": {
      "text/plain": [
       "1    579448\n",
       "0     74911\n",
       "Name: CASE_STATUS, dtype: int64"
      ]
     },
     "execution_count": 36,
     "metadata": {},
     "output_type": "execute_result"
    }
   ],
   "source": [
    "# Validation\n",
    "data_q4['CASE_STATUS'].value_counts()"
   ]
  },
  {
   "cell_type": "code",
   "execution_count": 37,
   "metadata": {},
   "outputs": [],
   "source": [
    "# Assign Case Status to Label\n",
    "label = data_q4['CASE_STATUS']"
   ]
  },
  {
   "cell_type": "markdown",
   "metadata": {},
   "source": [
    "## ML Models: Iteration 1"
   ]
  },
  {
   "cell_type": "code",
   "execution_count": 38,
   "metadata": {},
   "outputs": [],
   "source": [
    "# Split dataset \n",
    "F_train, F_test, l_train, l_test = train_test_split(features_enc, label, test_size =.25)"
   ]
  },
  {
   "cell_type": "code",
   "execution_count": 39,
   "metadata": {
    "scrolled": true
   },
   "outputs": [
    {
     "data": {
      "text/plain": [
       "((490769, 162), (163590, 162), (490769,), (163590,))"
      ]
     },
     "execution_count": 39,
     "metadata": {},
     "output_type": "execute_result"
    }
   ],
   "source": [
    "F_train.shape, F_test.shape, l_train.shape, l_test.shape"
   ]
  },
  {
   "cell_type": "code",
   "execution_count": 40,
   "metadata": {},
   "outputs": [],
   "source": [
    "X_train, X_val, ltrain, lval = train_test_split(F_train, l_train, test_size=0.25)"
   ]
  },
  {
   "cell_type": "code",
   "execution_count": 41,
   "metadata": {},
   "outputs": [
    {
     "data": {
      "text/plain": [
       "((368076, 162), (122693, 162), (368076,), (122693,))"
      ]
     },
     "execution_count": 41,
     "metadata": {},
     "output_type": "execute_result"
    }
   ],
   "source": [
    "X_train.shape, X_val.shape, ltrain.shape, lval.shape"
   ]
  },
  {
   "cell_type": "code",
   "execution_count": 42,
   "metadata": {},
   "outputs": [],
   "source": [
    "# Initalize Logistic Regression\n",
    "logregr = LogisticRegression()\n",
    "\n",
    "# Train Model\n",
    "logregr.fit(X_train, ltrain)\n",
    "\n",
    "# Test Model\n",
    "y_pred = logregr.predict(F_test)"
   ]
  },
  {
   "cell_type": "code",
   "execution_count": 43,
   "metadata": {
    "scrolled": false
   },
   "outputs": [],
   "source": [
    "# Initalize Decision Tree- Gini\n",
    "\n",
    "from sklearn import tree\n",
    "from sklearn.tree import DecisionTreeClassifier \n",
    "\n",
    "treeclass = DecisionTreeClassifier()\n",
    "\n",
    "# Train Model \n",
    "treeclass.fit(X_train, ltrain)\n",
    "\n",
    "# Predict\n",
    "ypredictt = treeclass.predict(F_test)"
   ]
  },
  {
   "cell_type": "code",
   "execution_count": 44,
   "metadata": {
    "scrolled": true
   },
   "outputs": [
    {
     "data": {
      "text/plain": [
       "DecisionTreeClassifier(class_weight=None, criterion='entropy', max_depth=None,\n",
       "            max_features=None, max_leaf_nodes=None,\n",
       "            min_impurity_decrease=0.0, min_impurity_split=None,\n",
       "            min_samples_leaf=1, min_samples_split=2,\n",
       "            min_weight_fraction_leaf=0.0, presort=False, random_state=None,\n",
       "            splitter='best')"
      ]
     },
     "execution_count": 44,
     "metadata": {},
     "output_type": "execute_result"
    }
   ],
   "source": [
    "# Inititalize Decision Tree- Entropy\n",
    "tc_entropy = DecisionTreeClassifier(criterion = \"entropy\")\n",
    "tc_entropy.fit(X_train, ltrain)"
   ]
  },
  {
   "cell_type": "code",
   "execution_count": 45,
   "metadata": {},
   "outputs": [],
   "source": [
    "# Predict entropy \n",
    "ypredicte = tc_entropy.predict(F_test)"
   ]
  },
  {
   "cell_type": "code",
   "execution_count": 46,
   "metadata": {},
   "outputs": [],
   "source": [
    "# Initalize Random Forest \n",
    "from sklearn.ensemble import RandomForestClassifier\n",
    "\n",
    "rfc=RandomForestClassifier(n_estimators=100)\n",
    "\n",
    "# Train \n",
    "rfc.fit(X_train, ltrain)\n",
    "\n",
    "# Predict \n",
    "\n",
    "ypredictr=rfc.predict(F_test)\n"
   ]
  },
  {
   "cell_type": "code",
   "execution_count": 47,
   "metadata": {},
   "outputs": [],
   "source": [
    "# 4. Initialize Gradient Boosting- Default model \n",
    "\n",
    "from sklearn.ensemble import GradientBoostingClassifier\n",
    "\n",
    "clf = GradientBoostingClassifier(n_estimators=100, learning_rate=1.0)\n",
    "\n",
    "# Train\n",
    "clf.fit(X_train, ltrain)\n",
    "\n",
    "# Predict\n",
    "ypredictg = clf.predict(F_test)\n",
    "\n",
    "\n"
   ]
  },
  {
   "cell_type": "markdown",
   "metadata": {},
   "source": [
    "### How good is my model?"
   ]
  },
  {
   "cell_type": "code",
   "execution_count": 48,
   "metadata": {
    "scrolled": true
   },
   "outputs": [
    {
     "name": "stdout",
     "output_type": "stream",
     "text": [
      "LogR Accuracy: 0.8847729078794547\n",
      "LogR Precision: 0.9368986257275458\n",
      "LogR Recall: 0.9326413778339445\n"
     ]
    }
   ],
   "source": [
    "# Logistic Regression\n",
    "from sklearn.metrics import accuracy_score, precision_score, recall_score\n",
    "\n",
    "print(\"LogR Accuracy:\",accuracy_score(l_test, y_pred))\n",
    "print(\"LogR Precision:\",precision_score(l_test, y_pred))\n",
    "print(\"LogR Recall:\",recall_score(l_test, y_pred))`"
   ]
  },
  {
   "cell_type": "markdown",
   "metadata": {},
   "source": [
    "My Logistic Model is accurate 89% of the time. It was correct 94% of the time when it predicted applicants that are going to get the \"certification status\" on their H1B visa applications. If there are applicants that will get the certification status in the test set, my Logistic Regression model can identify it 93% of the time."
   ]
  },
  {
   "cell_type": "code",
   "execution_count": 49,
   "metadata": {
    "scrolled": true
   },
   "outputs": [
    {
     "data": {
      "text/plain": [
       "array([[  9687,   9096],\n",
       "       [  9754, 135053]])"
      ]
     },
     "execution_count": 49,
     "metadata": {},
     "output_type": "execute_result"
    }
   ],
   "source": [
    "# Logistic Reg\n",
    "con_matrix = confusion_matrix(l_test, y_pred)\n",
    "con_matrix"
   ]
  },
  {
   "cell_type": "code",
   "execution_count": 50,
   "metadata": {},
   "outputs": [
    {
     "data": {
      "text/plain": [
       "Text(0.5, 257.44, 'Predicted label')"
      ]
     },
     "execution_count": 50,
     "metadata": {},
     "output_type": "execute_result"
    },
    {
     "data": {
      "image/png": "[encoded data removed]",
      "text/plain": [
       "<Figure size 432x288 with 2 Axes>"
      ]
     },
     "metadata": {},
     "output_type": "display_data"
    }
   ],
   "source": [
    "class_names=[0,1] # name  of classes\n",
    "fig, ax = plt.subplots()\n",
    "tick_marks = np.arange(len(class_names))\n",
    "plt.xticks(tick_marks, class_names)\n",
    "plt.yticks(tick_marks, class_names)\n",
    "\n",
    "# create heatmap\n",
    "sns.heatmap(pd.DataFrame(con_matrix), annot=True, cmap=\"YlGnBu\" ,fmt='g')\n",
    "ax.xaxis.set_label_position(\"top\")\n",
    "plt.tight_layout()\n",
    "plt.title('LogReg Confusion matrix', y=1.1)\n",
    "plt.ylabel('Actual label')\n",
    "plt.xlabel('Predicted label')"
   ]
  },
  {
   "cell_type": "code",
   "execution_count": 51,
   "metadata": {
    "scrolled": true
   },
   "outputs": [
    {
     "data": {
      "image/png": "[encoded data removed]",
      "text/plain": [
       "<Figure size 432x288 with 1 Axes>"
      ]
     },
     "metadata": {},
     "output_type": "display_data"
    }
   ],
   "source": [
    "from sklearn.metrics import roc_curve\n",
    "from sklearn.metrics import roc_auc_score\n",
    "\n",
    "y_pred_prob = logregr.predict_proba(F_test)[:,1]\n",
    "fpr, tpr, _ = roc_curve(l_test,  y_pred_prob)\n",
    "auc = roc_auc_score(l_test, y_pred_prob)\n",
    "plt.plot(fpr,tpr,label=\"data 1, auc=\"+str(auc))\n",
    "plt.title('LogReg Model- ROC')\n",
    "plt.xlabel('False Positive rate')\n",
    "plt.ylabel('True Positive rate')\n",
    "plt.legend(loc=4)\n",
    "plt.show()"
   ]
  },
  {
   "cell_type": "code",
   "execution_count": 52,
   "metadata": {
    "scrolled": false
   },
   "outputs": [
    {
     "name": "stdout",
     "output_type": "stream",
     "text": [
      "[[ 16949   1834]\n",
      " [  1253 143554]]\n"
     ]
    }
   ],
   "source": [
    "# Decision Tree\n",
    "from sklearn.metrics import classification_report, confusion_matrix  \n",
    "cont_matrix = confusion_matrix(l_test, ypredictt)  \n",
    "print(cont_matrix)"
   ]
  },
  {
   "cell_type": "code",
   "execution_count": 53,
   "metadata": {
    "scrolled": true
   },
   "outputs": [
    {
     "data": {
      "text/plain": [
       "Text(0.5, 257.44, 'Predicted label')"
      ]
     },
     "execution_count": 53,
     "metadata": {},
     "output_type": "execute_result"
    },
    {
     "data": {
      "image/png": "[encoded data removed]",
      "text/plain": [
       "<Figure size 432x288 with 2 Axes>"
      ]
     },
     "metadata": {},
     "output_type": "display_data"
    }
   ],
   "source": [
    "cl_names=[0,1] # name  of classes\n",
    "fig, ax = plt.subplots()\n",
    "tick_marks = np.arange(len(cl_names))\n",
    "plt.xticks(tick_marks, cl_names)\n",
    "plt.yticks(tick_marks, cl_names)\n",
    "\n",
    "# create heatmap\n",
    "sns.heatmap(pd.DataFrame(cont_matrix), annot=True, cmap=\"YlGnBu\" ,fmt='g')\n",
    "ax.xaxis.set_label_position(\"top\")\n",
    "plt.tight_layout()\n",
    "plt.title('Tree Model- Confusion matrix', y=1.1)\n",
    "plt.ylabel('Actual label')\n",
    "plt.xlabel('Predicted label')"
   ]
  },
  {
   "cell_type": "code",
   "execution_count": 54,
   "metadata": {
    "scrolled": true
   },
   "outputs": [
    {
     "name": "stdout",
     "output_type": "stream",
     "text": [
      "             precision    recall  f1-score   support\n",
      "\n",
      "          0       0.93      0.90      0.92     18783\n",
      "          1       0.99      0.99      0.99    144807\n",
      "\n",
      "avg / total       0.98      0.98      0.98    163590\n",
      "\n"
     ]
    }
   ],
   "source": [
    "# Classification for Tree \n",
    "print(classification_report(l_test, ypredictt))  "
   ]
  },
  {
   "cell_type": "code",
   "execution_count": 55,
   "metadata": {
    "scrolled": false
   },
   "outputs": [
    {
     "name": "stdout",
     "output_type": "stream",
     "text": [
      "TC Accuracy: 0.9811296534017971\n"
     ]
    }
   ],
   "source": [
    "# Tree Classification - Accuracy Score\n",
    "print(\"TC Accuracy:\", accuracy_score(l_test, ypredictt))"
   ]
  },
  {
   "cell_type": "code",
   "execution_count": 56,
   "metadata": {},
   "outputs": [
    {
     "data": {
      "image/png": "[encoded data removed]",
      "text/plain": [
       "<Figure size 432x288 with 1 Axes>"
      ]
     },
     "metadata": {},
     "output_type": "display_data"
    }
   ],
   "source": [
    "# ROC Curve for Decision Tree\n",
    "y_dt_prob = treeclass.predict_proba(F_test)[:,1]\n",
    "fpr_t, tpr_t, _ = roc_curve(l_test,  y_dt_prob)\n",
    "auc = roc_auc_score(l_test, y_dt_prob)\n",
    "plt.plot(fpr_t,tpr_t,label=\"data 1, auc=\"+str(auc))\n",
    "plt.xlabel('False Positive Rate')\n",
    "plt.ylabel('True Positive Rate')\n",
    "plt.title('Decision Tree ROC')\n",
    "plt.legend(loc=4)\n",
    "plt.show()"
   ]
  },
  {
   "cell_type": "code",
   "execution_count": 57,
   "metadata": {
    "scrolled": false
   },
   "outputs": [
    {
     "name": "stdout",
     "output_type": "stream",
     "text": [
      "RF Accuracy: 0.9839965768078733\n"
     ]
    }
   ],
   "source": [
    "# Random Forest \n",
    "print(\"RF Accuracy:\",accuracy_score(l_test, ypredictr))"
   ]
  },
  {
   "cell_type": "code",
   "execution_count": 58,
   "metadata": {
    "scrolled": true
   },
   "outputs": [
    {
     "data": {
      "image/png": "[encoded data removed]",
      "text/plain": [
       "<Figure size 432x288 with 1 Axes>"
      ]
     },
     "metadata": {},
     "output_type": "display_data"
    }
   ],
   "source": [
    "y_r_prob = rfc.predict_proba(F_test)[:, 1]\n",
    "fpr_rf, tpr_rf, _ = roc_curve(l_test,  y_r_prob)\n",
    "auc = roc_auc_score(l_test, y_r_prob)\n",
    "plt.plot(fpr_rf,tpr_rf,label=\"data 1, auc=\"+str(auc))\n",
    "plt.xlabel('False Positive Rate')\n",
    "plt.ylabel('True Positive Rate')\n",
    "plt.title('Random Forest- ROC')\n",
    "plt.legend(loc=4)\n",
    "plt.show()"
   ]
  },
  {
   "cell_type": "code",
   "execution_count": 59,
   "metadata": {
    "scrolled": true
   },
   "outputs": [
    {
     "name": "stdout",
     "output_type": "stream",
     "text": [
      "GB Accuracy: 0.9860932819854514\n"
     ]
    }
   ],
   "source": [
    "# Gradient Score\n",
    "print(\"GB Accuracy:\", clf.score(F_test, l_test))"
   ]
  },
  {
   "cell_type": "code",
   "execution_count": 60,
   "metadata": {},
   "outputs": [
    {
     "data": {
      "image/png": "[encoded data removed]",
      "text/plain": [
       "<Figure size 432x288 with 1 Axes>"
      ]
     },
     "metadata": {},
     "output_type": "display_data"
    }
   ],
   "source": [
    "y_g_prob = clf.predict_proba(F_test)[:, 1]\n",
    "fpr_grd, tpr_grd, _ = roc_curve(l_test,  y_g_prob)\n",
    "auc = roc_auc_score(l_test, y_r_prob)\n",
    "plt.plot(fpr_grd,tpr_grd,label=\"data 1, auc=\"+str(auc))\n",
    "plt.xlabel('False Positive Rate')\n",
    "plt.ylabel('True Positive Rate')\n",
    "plt.title('Gradient Score ROC')\n",
    "plt.legend(loc=4)\n",
    "plt.show()"
   ]
  },
  {
   "cell_type": "markdown",
   "metadata": {},
   "source": [
    "### Important Features"
   ]
  },
  {
   "cell_type": "code",
   "execution_count": 61,
   "metadata": {},
   "outputs": [],
   "source": [
    "feature_names = X_train.columns.values"
   ]
  },
  {
   "cell_type": "code",
   "execution_count": 62,
   "metadata": {
    "scrolled": false
   },
   "outputs": [
    {
     "data": {
      "text/plain": [
       "DURATION                                                                             0.883258\n",
       "WAGE_RATE_OF_PAY_FROM                                                                0.072627\n",
       "PW_WAGE_LEVEL_Level I                                                                0.005275\n",
       "EMPLOYER_NAME_Other                                                                  0.004147\n",
       "JOB_TITLE_PROGRAMMER ANALYST                                                         0.002919\n",
       "PW_WAGE_LEVEL_Level II                                                               0.002379\n",
       "EMPLOYER_NAME_HEXAWARE TECHNOLOGIES, INC.                                            0.001990\n",
       "PW_WAGE_LEVEL_Other                                                                  0.001033\n",
       "JOB_TITLE_Other                                                                      0.000928\n",
       "EMPLOYER_NAME_IBM CORPORATION                                                        0.000892\n",
       "PW_WAGE_LEVEL_Level III                                                              0.000860\n",
       "JOB_TITLE_COMPUTER PROGRAMMER                                                        0.000844\n",
       "EMPLOYER_NAME_TATA CONSULTANCY SERVICES LIMITED                                      0.000829\n",
       "EMPLOYER_NAME_IBM INDIA PRIVATE LIMITED                                              0.000760\n",
       "WORKSITE_POSTAL_CODE_Other                                                           0.000686\n",
       "EMPLOYER_NAME_INFOSYS LIMITED                                                        0.000677\n",
       "EMPLOYER_NAME_DELOITTE CONSULTING LLP                                                0.000666\n",
       "EMPLOYER_NAME_GOOGLE LLC                                                             0.000648\n",
       "JOB_TITLE_SYSTEMS ANALYST                                                            0.000604\n",
       "PW_WAGE_LEVEL_Level IV                                                               0.000508\n",
       "WORKSITE_POSTAL_CODE_94043                                                           0.000503\n",
       "JOB_TITLE_SOFTWARE DEVELOPER                                                         0.000490\n",
       "JOB_TITLE_SOFTWARE ENGINEER                                                          0.000488\n",
       "EMPLOYER_NAME_V-SOFT CONSULTING GROUP, INC                                           0.000445\n",
       "EMPLOYER_NAME_TECH MAHINDRA (AMERICAS),INC.                                          0.000367\n",
       "EMPLOYER_NAME_ERNST & YOUNG U.S. LLP                                                 0.000364\n",
       "FULL_TIME_POSITION_Y                                                                 0.000297\n",
       "EMPLOYER_NAME_MICROSOFT CORPORATION                                                  0.000297\n",
       "FULL_TIME_POSITION_N                                                                 0.000274\n",
       "EMPLOYER_NAME_NTT DATA, INC.                                                         0.000264\n",
       "                                                                                       ...   \n",
       "EMPLOYER_NAME_BANK OF AMERICA N.A.                                                   0.000054\n",
       "EMPLOYER_NAME_COGNIZANT TECHNOLOGY SOLUTIONS U.S. CORPORATION                        0.000053\n",
       "EMPLOYER_NAME_POPULUS GROUP LLC                                                      0.000052\n",
       "EMPLOYER_NAME_FACEBOOK, INC.                                                         0.000048\n",
       "EMPLOYER_NAME_KFORCE INC.                                                            0.000043\n",
       "JOB_TITLE_TECHNOLOGY LEAD - US                                                       0.000043\n",
       "EMPLOYER_NAME_HCL AMERICA, INC.                                                      0.000043\n",
       "EMPLOYER_NAME_COMPUNNEL SOFTWARE GROUP, INC.                                         0.000040\n",
       "JOB_TITLE_SOFTWARE DEVELOPMENT ENGINEER II                                           0.000038\n",
       "EMPLOYER_NAME_INTEL CORPORATION                                                      0.000037\n",
       "EMPLOYER_NAME_LINKEDIN CORPORATION                                                   0.000037\n",
       "JOB_TITLE_DEVELOPER USER INTERFACE                                                   0.000037\n",
       "EMPLOYER_NAME_GOLDMAN SACHS & CO. LLC                                                0.000037\n",
       "JOB_TITLE_VICE PRESIDENT                                                             0.000036\n",
       "JOB_TITLE_MANAGER JC50                                                               0.000035\n",
       "EMPLOYER_NAME_PRICEWATERHOUSECOOPERS ADVISORY SERVICES LLC                           0.000033\n",
       "EMPLOYER_NAME_RANDSTAD TECHNOLOGIES, LLC                                             0.000033\n",
       "EMPLOYER_NAME_PRICEWATERHOUSECOOPERS LLP                                             0.000029\n",
       "EMPLOYER_NAME_AMAZON WEB SERVICES, INC.                                              0.000025\n",
       "JOB_TITLE_TECHNOLOGY LEAD - US - PRACTITIONER                                        0.000025\n",
       "EMPLOYER_NAME_PAYPAL, INC.                                                           0.000023\n",
       "EMPLOYER_NAME_APPLE INC.                                                             0.000021\n",
       "EMPLOYER_NAME_TESLA, INC.                                                            0.000019\n",
       "EMPLOYER_NAME_SALESFORCE.COM INC.                                                    0.000018\n",
       "EMPLOYER_NAME_MASTECH DIGITAL TECHNOLOGIES, INC., A MASTECH DIGITAL, INC. COMPANY    0.000017\n",
       "EMPLOYER_NAME_EBAY INC.                                                              0.000015\n",
       "JOB_TITLE_ACCOUNTANTS AND AUDITORS                                                   0.000014\n",
       "EMPLOYER_NAME_UST GLOBAL INC.                                                        0.000013\n",
       "EMPLOYER_NAME_VMWARE, INC.                                                           0.000012\n",
       "EMPLOYER_NAME_MINDTREE LIMITED                                                       0.000010\n",
       "Length: 162, dtype: float64"
      ]
     },
     "execution_count": 62,
     "metadata": {},
     "output_type": "execute_result"
    }
   ],
   "source": [
    "# Random Forest \n",
    "feat_vip = pd.Series(rfc.feature_importances_).sort_values(ascending=False)\n",
    "feat_positions = feat_vip.index.values\n",
    "feat_vip.index = feature_names[feat_positions]\n",
    "feat_vip"
   ]
  },
  {
   "cell_type": "code",
   "execution_count": 63,
   "metadata": {},
   "outputs": [
    {
     "data": {
      "text/plain": [
       "DURATION                                                                             0.662293\n",
       "WAGE_RATE_OF_PAY_FROM                                                                0.165230\n",
       "PW_WAGE_LEVEL_Level I                                                                0.158096\n",
       "EMPLOYER_NAME_Other                                                                  0.008137\n",
       "JOB_TITLE_PROGRAMMER ANALYST                                                         0.002277\n",
       "PW_WAGE_LEVEL_Level II                                                               0.001528\n",
       "EMPLOYER_NAME_HEXAWARE TECHNOLOGIES, INC.                                            0.001014\n",
       "PW_WAGE_LEVEL_Other                                                                  0.000576\n",
       "JOB_TITLE_Other                                                                      0.000414\n",
       "EMPLOYER_NAME_IBM CORPORATION                                                        0.000251\n",
       "PW_WAGE_LEVEL_Level III                                                              0.000109\n",
       "JOB_TITLE_COMPUTER PROGRAMMER                                                        0.000042\n",
       "EMPLOYER_NAME_TATA CONSULTANCY SERVICES LIMITED                                      0.000025\n",
       "EMPLOYER_NAME_IBM INDIA PRIVATE LIMITED                                              0.000007\n",
       "WORKSITE_POSTAL_CODE_Other                                                           0.000000\n",
       "EMPLOYER_NAME_INFOSYS LIMITED                                                        0.000000\n",
       "EMPLOYER_NAME_DELOITTE CONSULTING LLP                                                0.000000\n",
       "EMPLOYER_NAME_GOOGLE LLC                                                             0.000000\n",
       "JOB_TITLE_SYSTEMS ANALYST                                                            0.000000\n",
       "PW_WAGE_LEVEL_Level IV                                                               0.000000\n",
       "WORKSITE_POSTAL_CODE_94043                                                           0.000000\n",
       "JOB_TITLE_SOFTWARE DEVELOPER                                                         0.000000\n",
       "JOB_TITLE_SOFTWARE ENGINEER                                                          0.000000\n",
       "EMPLOYER_NAME_V-SOFT CONSULTING GROUP, INC                                           0.000000\n",
       "EMPLOYER_NAME_TECH MAHINDRA (AMERICAS),INC.                                          0.000000\n",
       "EMPLOYER_NAME_ERNST & YOUNG U.S. LLP                                                 0.000000\n",
       "FULL_TIME_POSITION_Y                                                                 0.000000\n",
       "EMPLOYER_NAME_MICROSOFT CORPORATION                                                  0.000000\n",
       "FULL_TIME_POSITION_N                                                                 0.000000\n",
       "EMPLOYER_NAME_NTT DATA, INC.                                                         0.000000\n",
       "                                                                                       ...   \n",
       "EMPLOYER_NAME_BANK OF AMERICA N.A.                                                   0.000000\n",
       "EMPLOYER_NAME_COGNIZANT TECHNOLOGY SOLUTIONS U.S. CORPORATION                        0.000000\n",
       "EMPLOYER_NAME_POPULUS GROUP LLC                                                      0.000000\n",
       "EMPLOYER_NAME_FACEBOOK, INC.                                                         0.000000\n",
       "EMPLOYER_NAME_KFORCE INC.                                                            0.000000\n",
       "JOB_TITLE_TECHNOLOGY LEAD - US                                                       0.000000\n",
       "EMPLOYER_NAME_HCL AMERICA, INC.                                                      0.000000\n",
       "EMPLOYER_NAME_COMPUNNEL SOFTWARE GROUP, INC.                                         0.000000\n",
       "JOB_TITLE_SOFTWARE DEVELOPMENT ENGINEER II                                           0.000000\n",
       "EMPLOYER_NAME_INTEL CORPORATION                                                      0.000000\n",
       "EMPLOYER_NAME_LINKEDIN CORPORATION                                                   0.000000\n",
       "JOB_TITLE_DEVELOPER USER INTERFACE                                                   0.000000\n",
       "EMPLOYER_NAME_GOLDMAN SACHS & CO. LLC                                                0.000000\n",
       "JOB_TITLE_VICE PRESIDENT                                                             0.000000\n",
       "JOB_TITLE_MANAGER JC50                                                               0.000000\n",
       "EMPLOYER_NAME_PRICEWATERHOUSECOOPERS ADVISORY SERVICES LLC                           0.000000\n",
       "EMPLOYER_NAME_RANDSTAD TECHNOLOGIES, LLC                                             0.000000\n",
       "EMPLOYER_NAME_PRICEWATERHOUSECOOPERS LLP                                             0.000000\n",
       "EMPLOYER_NAME_AMAZON WEB SERVICES, INC.                                              0.000000\n",
       "JOB_TITLE_TECHNOLOGY LEAD - US - PRACTITIONER                                        0.000000\n",
       "EMPLOYER_NAME_PAYPAL, INC.                                                           0.000000\n",
       "EMPLOYER_NAME_APPLE INC.                                                             0.000000\n",
       "EMPLOYER_NAME_TESLA, INC.                                                            0.000000\n",
       "EMPLOYER_NAME_SALESFORCE.COM INC.                                                    0.000000\n",
       "EMPLOYER_NAME_MASTECH DIGITAL TECHNOLOGIES, INC., A MASTECH DIGITAL, INC. COMPANY    0.000000\n",
       "EMPLOYER_NAME_EBAY INC.                                                              0.000000\n",
       "JOB_TITLE_ACCOUNTANTS AND AUDITORS                                                   0.000000\n",
       "EMPLOYER_NAME_UST GLOBAL INC.                                                        0.000000\n",
       "EMPLOYER_NAME_VMWARE, INC.                                                           0.000000\n",
       "EMPLOYER_NAME_MINDTREE LIMITED                                                       0.000000\n",
       "Length: 162, dtype: float64"
      ]
     },
     "execution_count": 63,
     "metadata": {},
     "output_type": "execute_result"
    }
   ],
   "source": [
    "# Gradient Boosting\n",
    "featvip = pd.Series(clf.feature_importances_).sort_values(ascending=False)\n",
    "feat_posi= featvip.index.values\n",
    "featvip.index = feature_names[feat_positions]\n",
    "featvip"
   ]
  },
  {
   "cell_type": "markdown",
   "metadata": {},
   "source": [
    "### ML Models Iteration 2\n",
    "#### Duration variable dropped"
   ]
  },
  {
   "cell_type": "code",
   "execution_count": 64,
   "metadata": {},
   "outputs": [],
   "source": [
    "feat_df = features.drop(columns=['DURATION'], axis=1)"
   ]
  },
  {
   "cell_type": "code",
   "execution_count": 65,
   "metadata": {
    "scrolled": true
   },
   "outputs": [
    {
     "name": "stdout",
     "output_type": "stream",
     "text": [
      "<class 'pandas.core.frame.DataFrame'>\n",
      "Int64Index: 654359 entries, 0 to 654359\n",
      "Data columns (total 6 columns):\n",
      "EMPLOYER_NAME            654359 non-null object\n",
      "JOB_TITLE                654359 non-null object\n",
      "FULL_TIME_POSITION       654359 non-null object\n",
      "WAGE_RATE_OF_PAY_FROM    654359 non-null float64\n",
      "WORKSITE_POSTAL_CODE     654359 non-null object\n",
      "PW_WAGE_LEVEL            654359 non-null object\n",
      "dtypes: float64(1), object(5)\n",
      "memory usage: 34.9+ MB\n"
     ]
    }
   ],
   "source": [
    "# New Feature variable without Duration\n",
    "feat_df.info()"
   ]
  },
  {
   "cell_type": "code",
   "execution_count": 66,
   "metadata": {
    "scrolled": true
   },
   "outputs": [
    {
     "data": {
      "text/plain": [
       "(654359,)"
      ]
     },
     "execution_count": 66,
     "metadata": {},
     "output_type": "execute_result"
    }
   ],
   "source": [
    "label.shape"
   ]
  },
  {
   "cell_type": "code",
   "execution_count": 67,
   "metadata": {},
   "outputs": [],
   "source": [
    "# Encode updated feature dataset\n",
    "feat_enc = pd.get_dummies(feat_df)"
   ]
  },
  {
   "cell_type": "code",
   "execution_count": 68,
   "metadata": {},
   "outputs": [],
   "source": [
    "# Split dataset \n",
    "Ftrain, Ftest, ltrain, ltest = train_test_split(feat_enc, label, test_size =.25)"
   ]
  },
  {
   "cell_type": "code",
   "execution_count": 69,
   "metadata": {},
   "outputs": [
    {
     "data": {
      "text/plain": [
       "((490769, 161), (163590, 161), (490769,), (163590,))"
      ]
     },
     "execution_count": 69,
     "metadata": {},
     "output_type": "execute_result"
    }
   ],
   "source": [
    "Ftrain.shape, Ftest.shape, ltrain.shape, ltest.shape"
   ]
  },
  {
   "cell_type": "code",
   "execution_count": 70,
   "metadata": {},
   "outputs": [],
   "source": [
    "Xtrain, Xval, train_l, val_l = train_test_split(Ftrain, ltrain, test_size=0.25)"
   ]
  },
  {
   "cell_type": "code",
   "execution_count": 71,
   "metadata": {},
   "outputs": [
    {
     "data": {
      "text/plain": [
       "((368076, 161), (122693, 161), (368076,), (122693,))"
      ]
     },
     "execution_count": 71,
     "metadata": {},
     "output_type": "execute_result"
    }
   ],
   "source": [
    "Xtrain.shape, Xval.shape, train_l.shape, val_l.shape"
   ]
  },
  {
   "cell_type": "code",
   "execution_count": 72,
   "metadata": {},
   "outputs": [],
   "source": [
    "# Initalize Logistic Regression\n",
    "loregr = LogisticRegression()\n",
    "\n",
    "# Train Model\n",
    "loregr.fit(Xtrain, train_l)\n",
    "\n",
    "# Test Model\n",
    "ypredl = loregr.predict(Ftest)"
   ]
  },
  {
   "cell_type": "code",
   "execution_count": 73,
   "metadata": {},
   "outputs": [],
   "source": [
    "# Initalize Decision Tree\n",
    "\n",
    "from sklearn import tree\n",
    "from sklearn.tree import DecisionTreeClassifier \n",
    "\n",
    "treeclass1 = DecisionTreeClassifier()\n",
    "\n",
    "# Train Model \n",
    "treeclass1.fit(Xtrain, train_l)\n",
    "\n",
    "# Predict\n",
    "ypred2 = treeclass1.predict(Ftest)"
   ]
  },
  {
   "cell_type": "code",
   "execution_count": 74,
   "metadata": {},
   "outputs": [],
   "source": [
    "# Initalize Random Forest \n",
    "from sklearn.ensemble import RandomForestClassifier\n",
    "\n",
    "rfc1=RandomForestClassifier(n_estimators=100)\n",
    "\n",
    "# Train \n",
    "rfc1.fit(Xtrain, train_l)\n",
    "\n",
    "# Predict \n",
    "\n",
    "ypred3=rfc1.predict(Ftest)"
   ]
  },
  {
   "cell_type": "code",
   "execution_count": 75,
   "metadata": {},
   "outputs": [],
   "source": [
    "# 4. Initialize Gradient Boosting- \n",
    "\n",
    "from sklearn.ensemble import GradientBoostingClassifier\n",
    "\n",
    "clf1 = GradientBoostingClassifier(n_estimators=100, learning_rate=1.0, max_features= 'sqrt')\n",
    "\n",
    "# Train\n",
    "clf1.fit(Xtrain, train_l)\n",
    "\n",
    "# Predict\n",
    "ypred4 = clf1.predict(Ftest)\n",
    "\n"
   ]
  },
  {
   "cell_type": "code",
   "execution_count": 77,
   "metadata": {},
   "outputs": [
    {
     "data": {
      "text/plain": [
       "array([[0.11152076, 0.88847924],\n",
       "       [0.09441043, 0.90558957],\n",
       "       [0.02719112, 0.97280888],\n",
       "       ...,\n",
       "       [0.09762669, 0.90237331],\n",
       "       [0.10158361, 0.89841639],\n",
       "       [0.15361377, 0.84638623]])"
      ]
     },
     "execution_count": 77,
     "metadata": {},
     "output_type": "execute_result"
    }
   ],
   "source": [
    "# Predict probabilistics- Gradient Boosting\n",
    "ypred5 = clf1.predict_proba(Ftest)\n",
    "ypred5"
   ]
  },
  {
   "cell_type": "code",
   "execution_count": 78,
   "metadata": {
    "scrolled": true
   },
   "outputs": [
    {
     "data": {
      "image/png": "[encoded data removed]",
      "text/plain": [
       "<Figure size 432x288 with 1 Axes>"
      ]
     },
     "metadata": {},
     "output_type": "display_data"
    }
   ],
   "source": [
    "# Plot for No duration- Logistic Reg\n",
    "y_nl_prob = loregr.predict_proba(Ftest)[:,1]\n",
    "fpr, tpr, _ = roc_curve(ltest,  y_nl_prob)\n",
    "auc = roc_auc_score(ltest, y_nl_prob)\n",
    "plt.plot(fpr,tpr,label=\"data 1, auc=\"+str(auc))\n",
    "plt.legend(loc=4)\n",
    "plt.xlabel('False Positive Rate')\n",
    "plt.ylabel('True Positive Rate')\n",
    "plt.title('Log Regr - ROC')\n",
    "plt.show()"
   ]
  },
  {
   "cell_type": "code",
   "execution_count": 79,
   "metadata": {
    "scrolled": true
   },
   "outputs": [
    {
     "data": {
      "image/png": "[encoded data removed]",
      "text/plain": [
       "<Figure size 432x288 with 1 Axes>"
      ]
     },
     "metadata": {},
     "output_type": "display_data"
    }
   ],
   "source": [
    "# Random Forest\n",
    "y_nr_prob = rfc1.predict_proba(Ftest)[:, 1]\n",
    "fpr_nf, tpr_nf, _ = roc_curve(ltest,  y_nr_prob)\n",
    "auc = roc_auc_score(ltest, y_nr_prob)\n",
    "plt.plot(fpr_nf,tpr_nf,label=\"data 1, auc=\"+str(auc))\n",
    "plt.xlabel('False Positive Rate')\n",
    "plt.ylabel('True Positive Rate')\n",
    "plt.title('RF - ROC')\n",
    "plt.legend(loc=4)\n",
    "plt.show()"
   ]
  },
  {
   "cell_type": "code",
   "execution_count": 76,
   "metadata": {
    "scrolled": true
   },
   "outputs": [
    {
     "name": "stdout",
     "output_type": "stream",
     "text": [
      "[[  2881  15892]\n",
      " [  5188 139629]]\n"
     ]
    }
   ],
   "source": [
    "# Confusion Matrix for Random Forest\n",
    "conrandom_matrix = confusion_matrix(ltest, ypred3)  \n",
    "print(conrandom_matrix)"
   ]
  },
  {
   "cell_type": "code",
   "execution_count": 80,
   "metadata": {},
   "outputs": [
    {
     "name": "stdout",
     "output_type": "stream",
     "text": [
      "             precision    recall  f1-score   support\n",
      "\n",
      "          0       0.36      0.15      0.21     18773\n",
      "          1       0.90      0.96      0.93    144817\n",
      "\n",
      "avg / total       0.84      0.87      0.85    163590\n",
      "\n"
     ]
    }
   ],
   "source": [
    "# Classification for Random Forest \n",
    "print(classification_report(ltest, ypred3))  "
   ]
  },
  {
   "cell_type": "code",
   "execution_count": 86,
   "metadata": {
    "scrolled": true
   },
   "outputs": [
    {
     "data": {
      "image/png": "[encoded data removed]",
      "text/plain": [
       "<Figure size 432x288 with 1 Axes>"
      ]
     },
     "metadata": {},
     "output_type": "display_data"
    }
   ],
   "source": [
    "# Gradient Boosting- With Max Features = \"sqrt”\n",
    "y_ng_prob = clf1.predict_proba(Ftest)[:, 1]\n",
    "fpr_ngrd, tpr_ngrd, _ = roc_curve(ltest,  y_ng_prob)\n",
    "auc = roc_auc_score(ltest, y_ng_prob)\n",
    "plt.plot(fpr_ngrd,tpr_ngrd,label=\"data 1, auc=\"+str(auc))\n",
    "plt.xlabel('False Positive Rate')\n",
    "plt.ylabel('True Positive Rate')\n",
    "plt.title('Gradient Boosting - ROC')\n",
    "plt.legend(loc=4)\n",
    "plt.show()"
   ]
  },
  {
   "cell_type": "code",
   "execution_count": 83,
   "metadata": {
    "scrolled": true
   },
   "outputs": [
    {
     "name": "stdout",
     "output_type": "stream",
     "text": [
      "[[   800  17973]\n",
      " [   434 144383]]\n"
     ]
    }
   ],
   "source": [
    "# Confusion Matrix for Gradient Boosting\n",
    "congb_matrix = confusion_matrix(ltest, ypred4)  \n",
    "print(congb_matrix)"
   ]
  },
  {
   "cell_type": "code",
   "execution_count": 84,
   "metadata": {
    "scrolled": true
   },
   "outputs": [
    {
     "name": "stdout",
     "output_type": "stream",
     "text": [
      "             precision    recall  f1-score   support\n",
      "\n",
      "          0       0.65      0.04      0.08     18773\n",
      "          1       0.89      1.00      0.94    144817\n",
      "\n",
      "avg / total       0.86      0.89      0.84    163590\n",
      "\n"
     ]
    }
   ],
   "source": [
    "# Classification for Gradient Boosting\n",
    "print(classification_report(ltest, ypred4))  "
   ]
  },
  {
   "cell_type": "code",
   "execution_count": 85,
   "metadata": {
    "scrolled": false
   },
   "outputs": [
    {
     "data": {
      "image/png": "[encoded data removed]",
      "text/plain": [
       "<Figure size 432x288 with 1 Axes>"
      ]
     },
     "metadata": {},
     "output_type": "display_data"
    }
   ],
   "source": [
    "# Tree Classifier \n",
    "y_nt_prob = treeclass1.predict_proba(Ftest)[:,1]\n",
    "fpr_nt, tpr_nt, _ = roc_curve(ltest,  y_nt_prob)\n",
    "auc = roc_auc_score(ltest, y_nt_prob)\n",
    "plt.plot(fpr_nt,tpr_nt,label=\"data 1, auc=\"+str(auc))\n",
    "plt.legend(loc=4)\n",
    "plt.xlabel('False Positive Rate')\n",
    "plt.ylabel('True Positive Rate')\n",
    "plt.title('Tree Classifier - ROC')\n",
    "plt.show()"
   ]
  },
  {
   "cell_type": "markdown",
   "metadata": {},
   "source": [
    "For \"Certified\" class , precision indicates that the model 89% of the time it correctly predicted that an application will be certified. A recall of 1 for \"Certified\" class is good since it never says an element belongs to the opposite class whereas it actually belongs to its class.\n"
   ]
  },
  {
   "cell_type": "code",
   "execution_count": 87,
   "metadata": {},
   "outputs": [],
   "source": [
    "# To find top contributors \n",
    "feat_names = Xtrain.columns.values"
   ]
  },
  {
   "cell_type": "code",
   "execution_count": 88,
   "metadata": {
    "scrolled": true
   },
   "outputs": [
    {
     "data": {
      "text/plain": [
       "WAGE_RATE_OF_PAY_FROM                                                                0.786768\n",
       "PW_WAGE_LEVEL_Level I                                                                0.021137\n",
       "EMPLOYER_NAME_Other                                                                  0.014677\n",
       "JOB_TITLE_PROGRAMMER ANALYST                                                         0.012451\n",
       "PW_WAGE_LEVEL_Level II                                                               0.007983\n",
       "EMPLOYER_NAME_HEXAWARE TECHNOLOGIES, INC.                                            0.007056\n",
       "JOB_TITLE_Other                                                                      0.005470\n",
       "EMPLOYER_NAME_IBM INDIA PRIVATE LIMITED                                              0.004602\n",
       "WORKSITE_POSTAL_CODE_Other                                                           0.004025\n",
       "JOB_TITLE_COMPUTER PROGRAMMER                                                        0.003971\n",
       "PW_WAGE_LEVEL_Level III                                                              0.003896\n",
       "PW_WAGE_LEVEL_Other                                                                  0.003659\n",
       "JOB_TITLE_SOFTWARE ENGINEER                                                          0.003230\n",
       "JOB_TITLE_SYSTEMS ANALYST                                                            0.003221\n",
       "EMPLOYER_NAME_IBM CORPORATION                                                        0.003137\n",
       "WORKSITE_POSTAL_CODE_94043                                                           0.002925\n",
       "PW_WAGE_LEVEL_Level IV                                                               0.002525\n",
       "JOB_TITLE_SOFTWARE DEVELOPER                                                         0.002510\n",
       "EMPLOYER_NAME_DELOITTE CONSULTING LLP                                                0.002400\n",
       "EMPLOYER_NAME_TATA CONSULTANCY SERVICES LIMITED                                      0.002299\n",
       "EMPLOYER_NAME_GOOGLE LLC                                                             0.002282\n",
       "EMPLOYER_NAME_INFOSYS LIMITED                                                        0.002225\n",
       "EMPLOYER_NAME_V-SOFT CONSULTING GROUP, INC                                           0.001906\n",
       "EMPLOYER_NAME_SYNTEL INC                                                             0.001844\n",
       "JOB_TITLE_PROJECT MANAGER                                                            0.001494\n",
       "JOB_TITLE_BUSINESS ANALYST                                                           0.001460\n",
       "WORKSITE_POSTAL_CODE_94105                                                           0.001412\n",
       "JOB_TITLE_SENIOR SOFTWARE ENGINEER                                                   0.001376\n",
       "WORKSITE_POSTAL_CODE_75024                                                           0.001286\n",
       "JOB_TITLE_ASSOCIATE                                                                  0.001279\n",
       "                                                                                       ...   \n",
       "EMPLOYER_NAME_HCL AMERICA, INC.                                                      0.000297\n",
       "JOB_TITLE_LEAD ENGINEER                                                              0.000275\n",
       "EMPLOYER_NAME_LARSEN & TOUBRO INFOTECH LIMITED                                       0.000273\n",
       "EMPLOYER_NAME_FACEBOOK, INC.                                                         0.000265\n",
       "EMPLOYER_NAME_LINKEDIN CORPORATION                                                   0.000263\n",
       "EMPLOYER_NAME_KFORCE INC.                                                            0.000249\n",
       "EMPLOYER_NAME_COMPUNNEL SOFTWARE GROUP, INC.                                         0.000222\n",
       "EMPLOYER_NAME_COGNIZANT TECHNOLOGY SOLUTIONS U.S. CORPORATION                        0.000197\n",
       "EMPLOYER_NAME_PRICEWATERHOUSECOOPERS ADVISORY SERVICES LLC                           0.000193\n",
       "JOB_TITLE_SOFTWARE DEVELOPMENT ENGINEER II                                           0.000191\n",
       "EMPLOYER_NAME_PRICEWATERHOUSECOOPERS LLP                                             0.000183\n",
       "EMPLOYER_NAME_POPULUS GROUP LLC                                                      0.000170\n",
       "EMPLOYER_NAME_INTEL CORPORATION                                                      0.000165\n",
       "JOB_TITLE_ACCOUNTANTS AND AUDITORS                                                   0.000164\n",
       "EMPLOYER_NAME_SALESFORCE.COM INC.                                                    0.000152\n",
       "EMPLOYER_NAME_GOLDMAN SACHS & CO. LLC                                                0.000151\n",
       "EMPLOYER_NAME_APPLE INC.                                                             0.000134\n",
       "JOB_TITLE_MANAGER JC50                                                               0.000129\n",
       "JOB_TITLE_TECHNOLOGY LEAD - US                                                       0.000128\n",
       "JOB_TITLE_DEVELOPER USER INTERFACE                                                   0.000127\n",
       "EMPLOYER_NAME_AMAZON WEB SERVICES, INC.                                              0.000125\n",
       "EMPLOYER_NAME_UST GLOBAL INC.                                                        0.000122\n",
       "EMPLOYER_NAME_PAYPAL, INC.                                                           0.000119\n",
       "EMPLOYER_NAME_RANDSTAD TECHNOLOGIES, LLC                                             0.000117\n",
       "EMPLOYER_NAME_MASTECH DIGITAL TECHNOLOGIES, INC., A MASTECH DIGITAL, INC. COMPANY    0.000107\n",
       "EMPLOYER_NAME_TESLA, INC.                                                            0.000103\n",
       "EMPLOYER_NAME_VMWARE, INC.                                                           0.000102\n",
       "EMPLOYER_NAME_MINDTREE LIMITED                                                       0.000102\n",
       "EMPLOYER_NAME_EBAY INC.                                                              0.000096\n",
       "JOB_TITLE_TECHNOLOGY LEAD - US - PRACTITIONER                                        0.000089\n",
       "Length: 161, dtype: float64"
      ]
     },
     "execution_count": 88,
     "metadata": {},
     "output_type": "execute_result"
    }
   ],
   "source": [
    "# Random Forest \n",
    "featr_vip = pd.Series(rfc1.feature_importances_).sort_values(ascending=False)\n",
    "feat_pst = featr_vip.index.values\n",
    "featr_vip.index = feat_names[feat_pst]\n",
    "featr_vip"
   ]
  },
  {
   "cell_type": "code",
   "execution_count": 89,
   "metadata": {
    "scrolled": true
   },
   "outputs": [
    {
     "data": {
      "text/plain": [
       "EMPLOYER_NAME_IBM INDIA PRIVATE LIMITED          2.616797e-01\n",
       "WAGE_RATE_OF_PAY_FROM                            1.350621e-01\n",
       "EMPLOYER_NAME_Other                              4.750153e-02\n",
       "EMPLOYER_NAME_V-SOFT CONSULTING GROUP, INC       3.028639e-02\n",
       "PW_WAGE_LEVEL_Level I                            2.643337e-02\n",
       "PW_WAGE_LEVEL_Other                              1.926639e-02\n",
       "JOB_TITLE_PROGRAMMER ANALYST                     1.873320e-02\n",
       "EMPLOYER_NAME_IBM CORPORATION                    1.812144e-02\n",
       "EMPLOYER_NAME_GOOGLE LLC                         1.641385e-02\n",
       "JOB_TITLE_TECHNICAL LEAD                         1.488799e-02\n",
       "EMPLOYER_NAME_UBER TECHNOLOGIES, INC.            1.374991e-02\n",
       "EMPLOYER_NAME_APPLE INC.                         1.338448e-02\n",
       "EMPLOYER_NAME_RANDSTAD TECHNOLOGIES, LLC         1.154276e-02\n",
       "PW_WAGE_LEVEL_Level II                           1.100337e-02\n",
       "EMPLOYER_NAME_SYNTEL INC                         1.060632e-02\n",
       "WORKSITE_POSTAL_CODE_Other                       9.140523e-03\n",
       "JOB_TITLE_APPLICATION DEVELOPER                  8.904718e-03\n",
       "JOB_TITLE_DATABASE ADMINISTRATOR                 8.277443e-03\n",
       "JOB_TITLE_ASSISTANT PROFESSOR                    8.275196e-03\n",
       "JOB_TITLE_SENIOR SYSTEMS ANALYST JC60            8.009973e-03\n",
       "EMPLOYER_NAME_VIRTUSA CORPORATION                7.203198e-03\n",
       "EMPLOYER_NAME_NTT DATA, INC.                     7.107692e-03\n",
       "EMPLOYER_NAME_INFOSYS LIMITED                    7.106973e-03\n",
       "JOB_TITLE_Other                                  7.065298e-03\n",
       "WORKSITE_POSTAL_CODE_28262                       6.898222e-03\n",
       "JOB_TITLE_SOFTWARE DEVELOPER                     6.721297e-03\n",
       "EMPLOYER_NAME_BANK OF AMERICA N.A.               6.706689e-03\n",
       "WORKSITE_POSTAL_CODE_94025                       6.416934e-03\n",
       "EMPLOYER_NAME_L&T TECHNOLOGY SERVICES LIMITED    6.363643e-03\n",
       "EMPLOYER_NAME_JPMORGAN CHASE & CO.               6.146577e-03\n",
       "                                                     ...     \n",
       "EMPLOYER_NAME_DELOITTE & TOUCHE LLP              2.385357e-04\n",
       "JOB_TITLE_TECHNOLOGY LEAD - US                   2.009160e-04\n",
       "WORKSITE_POSTAL_CODE_10018                       1.706569e-04\n",
       "JOB_TITLE_SENIOR SOFTWARE DEVELOPER              1.600731e-04\n",
       "WORKSITE_POSTAL_CODE_75063                       1.073282e-04\n",
       "WORKSITE_POSTAL_CODE_10017                       1.054386e-04\n",
       "WORKSITE_POSTAL_CODE_95134                       8.803183e-05\n",
       "WORKSITE_POSTAL_CODE_28202                       8.481193e-05\n",
       "EMPLOYER_NAME_PRICEWATERHOUSECOOPERS LLP         8.167389e-05\n",
       "JOB_TITLE_ARCHITECT                              5.670472e-05\n",
       "JOB_TITLE_COMPUTER SYSTEMS ANALYST               4.878831e-05\n",
       "WORKSITE_POSTAL_CODE_07302                       4.006195e-05\n",
       "EMPLOYER_NAME_HCL AMERICA, INC.                  3.128105e-05\n",
       "JOB_TITLE_DEVELOPER                              3.073223e-05\n",
       "WORKSITE_POSTAL_CODE_75201                       2.436093e-05\n",
       "WORKSITE_POSTAL_CODE_98109                       2.264168e-05\n",
       "EMPLOYER_NAME_PAYPAL, INC.                       2.002205e-05\n",
       "WORKSITE_POSTAL_CODE_94111                       1.791374e-05\n",
       "WORKSITE_POSTAL_CODE_98004                       1.081028e-05\n",
       "WORKSITE_POSTAL_CODE_75039                       1.022098e-05\n",
       "WORKSITE_POSTAL_CODE_30339                       9.210011e-06\n",
       "WORKSITE_POSTAL_CODE_75038                       1.847078e-06\n",
       "WORKSITE_POSTAL_CODE_60606                       9.496852e-07\n",
       "EMPLOYER_NAME_EBAY INC.                          0.000000e+00\n",
       "JOB_TITLE_ANALYST                                0.000000e+00\n",
       "JOB_TITLE_BUSINESS SYSTEMS ANALYST               0.000000e+00\n",
       "EMPLOYER_NAME_GOLDMAN SACHS & CO. LLC            0.000000e+00\n",
       "JOB_TITLE_DESIGN ENGINEER                        0.000000e+00\n",
       "JOB_TITLE_TECHNOLOGY LEAD - US - PRACTITIONER    0.000000e+00\n",
       "EMPLOYER_NAME_TESLA, INC.                        0.000000e+00\n",
       "Length: 161, dtype: float64"
      ]
     },
     "execution_count": 89,
     "metadata": {},
     "output_type": "execute_result"
    }
   ],
   "source": [
    "# Gradient \n",
    "featg_vip = pd.Series(clf1.feature_importances_).sort_values(ascending=False)\n",
    "feat_p = featg_vip.index.values\n",
    "featg_vip.index = feat_names[feat_p]\n",
    "featg_vip"
   ]
  },
  {
   "cell_type": "code",
   "execution_count": 91,
   "metadata": {},
   "outputs": [
    {
     "data": {
      "image/png": "[encoded data removed]",
      "text/plain": [
       "<Figure size 1080x648 with 1 Axes>"
      ]
     },
     "metadata": {},
     "output_type": "display_data"
    }
   ],
   "source": [
    "featg_vip.nlargest(20).plot(kind='barh', figsize=(15,9), fontsize = 15)\n",
    "_= plt.xlabel('Features Importance',fontsize=20)\n",
    "_= plt.ylabel('Features',fontsize=20)\n",
    "_= plt.title('GB: Top 20 Important Features',fontsize=20,fontweight='bold')"
   ]
  },
  {
   "cell_type": "markdown",
   "metadata": {},
   "source": [
    "### HyperParameter tuning"
   ]
  },
  {
   "cell_type": "code",
   "execution_count": 90,
   "metadata": {},
   "outputs": [
    {
     "name": "stdout",
     "output_type": "stream",
     "text": [
      "[0.88551496 0.88552173 0.88552173 0.88552086 0.88552086]\n",
      "Average Score: 0.8855200280071335\n"
     ]
    }
   ],
   "source": [
    "# Cross Validation Logistic Regression\n",
    "from sklearn.model_selection import cross_val_score\n",
    "\n",
    "cv_results = cross_val_score(loregr, feat_enc, label, cv=5)\n",
    "\n",
    "print(cv_results)\n",
    "print('Average Score:',np.mean(cv_results))"
   ]
  },
  {
   "cell_type": "code",
   "execution_count": 91,
   "metadata": {},
   "outputs": [
    {
     "name": "stdout",
     "output_type": "stream",
     "text": [
      "Tuned Logistic Regression Parameters: {'C': 1e-05}\n",
      "Best score is 0.8858207069677977\n"
     ]
    }
   ],
   "source": [
    "from sklearn.model_selection import GridSearchCV\n",
    "\n",
    "# Setup the hyperparameter grid\n",
    "c_space = np.logspace(-5, 8, 15)\n",
    "param_grid = {'C': c_space}\n",
    "\n",
    "\n",
    "# Instantiate the GridSearchCV object: logreg_cv\n",
    "loregr_cv = GridSearchCV(loregr, param_grid, cv=5)\n",
    "\n",
    "# Fit it to the data. the training?\n",
    "loregr_cv.fit(Xval,val_l)\n",
    "\n",
    "# Print the tuned parameters and score\n",
    "print(\"Tuned Logistic Regression Parameters: {}\".format(loregr_cv.best_params_)) \n",
    "print(\"Best score is {}\".format(loregr_cv.best_score_))"
   ]
  },
  {
   "cell_type": "code",
   "execution_count": 92,
   "metadata": {
    "scrolled": false
   },
   "outputs": [
    {
     "name": "stdout",
     "output_type": "stream",
     "text": [
      "{'bootstrap': True,\n",
      " 'class_weight': None,\n",
      " 'criterion': 'gini',\n",
      " 'max_depth': None,\n",
      " 'max_features': 'auto',\n",
      " 'max_leaf_nodes': None,\n",
      " 'min_impurity_decrease': 0.0,\n",
      " 'min_impurity_split': None,\n",
      " 'min_samples_leaf': 1,\n",
      " 'min_samples_split': 2,\n",
      " 'min_weight_fraction_leaf': 0.0,\n",
      " 'n_estimators': 100,\n",
      " 'n_jobs': 1,\n",
      " 'oob_score': False,\n",
      " 'random_state': None,\n",
      " 'verbose': 0,\n",
      " 'warm_start': False}\n"
     ]
    }
   ],
   "source": [
    "# Partial Dependence(python) PDP\n",
    "# Hyperparameters for Random Forest \n",
    "from pprint import pprint\n",
    "pprint(rfc1.get_params())"
   ]
  },
  {
   "cell_type": "code",
   "execution_count": 94,
   "metadata": {
    "scrolled": true
   },
   "outputs": [
    {
     "name": "stdout",
     "output_type": "stream",
     "text": [
      "{'max_features': ['log2', 'sqrt'],\n",
      " 'n_estimators': [150, 166, 183, 200, 216, 233, 250, 266, 283, 300]}\n"
     ]
    }
   ],
   "source": [
    "from sklearn.model_selection import RandomizedSearchCV\n",
    "\n",
    "# Number of trees in random forest\n",
    "n_estimators = [int(x) for x in np.linspace(start = 150, stop = 300, num = 10)]\n",
    "# Number of features to consider at every split\n",
    "max_features = ['log2', 'sqrt']\n",
    "\n",
    "# Create the random grid\n",
    "random_grid = {'n_estimators': n_estimators,\n",
    "               'max_features': max_features}\n",
    "pprint(random_grid)"
   ]
  },
  {
   "cell_type": "code",
   "execution_count": 95,
   "metadata": {
    "scrolled": true
   },
   "outputs": [],
   "source": [
    "# Random search of parameters, using e fold cross validation, \n",
    "rf_random = RandomizedSearchCV(rfc1, param_distributions = random_grid, n_iter = 7, cv = 3)\n",
    "\n"
   ]
  },
  {
   "cell_type": "code",
   "execution_count": 96,
   "metadata": {},
   "outputs": [
    {
     "name": "stdout",
     "output_type": "stream",
     "text": [
      "RandomizedSearchCV(cv=3, error_score='raise',\n",
      "          estimator=RandomForestClassifier(bootstrap=True, class_weight=None, criterion='gini',\n",
      "            max_depth=None, max_features='auto', max_leaf_nodes=None,\n",
      "            min_impurity_decrease=0.0, min_impurity_split=None,\n",
      "            min_samples_leaf=1, min_samples_split=2,\n",
      "            min_weight_fraction_leaf=0.0, n_estimators=100, n_jobs=1,\n",
      "            oob_score=False, random_state=None, verbose=0,\n",
      "            warm_start=False),\n",
      "          fit_params=None, iid=True, n_iter=7, n_jobs=1,\n",
      "          param_distributions={'n_estimators': [150, 166, 183, 200, 216, 233, 250, 266, 283, 300], 'max_features': ['log2', 'sqrt']},\n",
      "          pre_dispatch='2*n_jobs', random_state=None, refit=True,\n",
      "          return_train_score='warn', scoring=None, verbose=0)\n"
     ]
    }
   ],
   "source": [
    "print(rf_random)"
   ]
  }
 ],
 "metadata": {
  "kernelspec": {
   "display_name": "Python 3",
   "language": "python",
   "name": "python3"
  },
  "language_info": {
   "codemirror_mode": {
    "name": "ipython",
    "version": 3
   },
   "file_extension": ".py",
   "mimetype": "text/x-python",
   "name": "python",
   "nbconvert_exporter": "python",
   "pygments_lexer": "ipython3",
   "version": "3.6.8"
  }
 },
 "nbformat": 4,
 "nbformat_minor": 2
}
