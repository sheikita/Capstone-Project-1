{
 "cells": [
  {
   "cell_type": "code",
   "execution_count": 1,
   "metadata": {},
   "outputs": [],
   "source": [
    "%matplotlib inline\n",
    "\n",
    "import pandas as pd\n",
    "import numpy as np\n",
    "from scipy import stats\n",
    "import matplotlib.pyplot as plt\n",
    "import matplotlib.mlab as mlab\n",
    "import seaborn as sns\n",
    "import pylab\n",
    "import bokeh.plotting as bkp\n",
    "from mpl_toolkits.axes_grid1 import make_axes_locatable\n"
   ]
  },
  {
   "cell_type": "code",
   "execution_count": 2,
   "metadata": {},
   "outputs": [],
   "source": [
    "data_eda = pd.read_excel(\"/Users/sheikita/Desktop/data/H-1B_EDAco.xlsx\")"
   ]
  },
  {
   "cell_type": "code",
   "execution_count": 3,
   "metadata": {},
   "outputs": [
    {
     "name": "stdout",
     "output_type": "stream",
     "text": [
      "<class 'pandas.core.frame.DataFrame'>\n",
      "RangeIndex: 7001 entries, 0 to 7000\n",
      "Data columns (total 52 columns):\n",
      "CASE_NUMBER                    7001 non-null object\n",
      "CASE_STATUS                    7001 non-null object\n",
      "CASE_SUBMITTED                 7001 non-null datetime64[ns]\n",
      "DECISION_DATE                  7001 non-null datetime64[ns]\n",
      "VISA_CLASS                     7001 non-null object\n",
      "EMPLOYMENT_START_DATE          7000 non-null datetime64[ns]\n",
      "EMPLOYMENT_END_DATE            7000 non-null datetime64[ns]\n",
      "EMPLOYER_NAME                  7001 non-null object\n",
      "EMPLOYER_BUSINESS_DBA          791 non-null object\n",
      "EMPLOYER_ADDRESS               7001 non-null object\n",
      "EMPLOYER_CITY                  7001 non-null object\n",
      "EMPLOYER_STATE                 7001 non-null object\n",
      "EMPLOYER_POSTAL_CODE           7001 non-null object\n",
      "EMPLOYER_COUNTRY               7001 non-null object\n",
      "EMPLOYER_PROVINCE              39 non-null object\n",
      "EMPLOYER_PHONE                 7001 non-null int64\n",
      "EMPLOYER_PHONE_EXT             354 non-null float64\n",
      "AGENT_REPRESENTING_EMPLOYER    6999 non-null object\n",
      "AGENT_ATTORNEY_NAME            7001 non-null object\n",
      "AGENT_ATTORNEY_CITY            5560 non-null object\n",
      "AGENT_ATTORNEY_STATE           5420 non-null object\n",
      "JOB_TITLE                      7001 non-null object\n",
      "SOC_CODE                       6999 non-null object\n",
      "SOC_NAME                       6999 non-null object\n",
      "NAICS_CODE                     7001 non-null int64\n",
      "TOTAL_WORKERS                  7001 non-null int64\n",
      "NEW_EMPLOYMENT                 7001 non-null int64\n",
      "CONTINUED_EMPLOYMENT           7001 non-null int64\n",
      "CHANGE_PREVIOUS_EMPLOYMENT     7001 non-null int64\n",
      "NEW_CONCURRENT_EMP             7001 non-null int64\n",
      "CHANGE_EMPLOYER                7001 non-null int64\n",
      "AMENDED_PETITION               7001 non-null int64\n",
      "FULL_TIME_POSITION             7001 non-null object\n",
      "PREVAILING_WAGE                7000 non-null float64\n",
      "PW_UNIT_OF_PAY                 6997 non-null object\n",
      "PW_WAGE_LEVEL                  3167 non-null object\n",
      "PW_SOURCE                      6998 non-null object\n",
      "PW_SOURCE_YEAR                 6994 non-null float64\n",
      "PW_SOURCE_OTHER                6632 non-null object\n",
      "WAGE_RATE_OF_PAY_FROM          7001 non-null float64\n",
      "WAGE_RATE_OF_PAY_TO            7000 non-null float64\n",
      "WAGE_UNIT_OF_PAY               6999 non-null object\n",
      "H1B_DEPENDENT                  6746 non-null object\n",
      "WILLFUL_VIOLATOR               6746 non-null object\n",
      "SUPPORT_H1B                    961 non-null object\n",
      "LABOR_CON_AGREE                2528 non-null object\n",
      "PUBLIC_DISCLOSURE_LOCATION     0 non-null float64\n",
      "WORKSITE_CITY                  6999 non-null object\n",
      "WORKSITE_COUNTY                6977 non-null object\n",
      "WORKSITE_STATE                 6999 non-null object\n",
      "WORKSITE_POSTAL_CODE           6997 non-null object\n",
      "ORIGINAL_CERT_DATE             637 non-null datetime64[ns]\n",
      "dtypes: datetime64[ns](5), float64(6), int64(9), object(32)\n",
      "memory usage: 2.8+ MB\n"
     ]
    }
   ],
   "source": [
    "data_eda.info()"
   ]
  },
  {
   "cell_type": "code",
   "execution_count": 4,
   "metadata": {},
   "outputs": [],
   "source": [
    "data_eda['DURATION'] = data_eda['DECISION_DATE'] - data_eda['CASE_SUBMITTED']"
   ]
  },
  {
   "cell_type": "code",
   "execution_count": 5,
   "metadata": {},
   "outputs": [
    {
     "name": "stdout",
     "output_type": "stream",
     "text": [
      "<class 'pandas.core.frame.DataFrame'>\n",
      "RangeIndex: 7001 entries, 0 to 7000\n",
      "Data columns (total 3 columns):\n",
      "DURATION       7001 non-null timedelta64[ns]\n",
      "CASE_STATUS    7001 non-null object\n",
      "SOC_CODE       6999 non-null object\n",
      "dtypes: object(2), timedelta64[ns](1)\n",
      "memory usage: 164.2+ KB\n"
     ]
    }
   ],
   "source": [
    "eda_a = data_eda[['DURATION','CASE_STATUS','SOC_CODE']]\n",
    "eda_a.info()"
   ]
  },
  {
   "cell_type": "code",
   "execution_count": 6,
   "metadata": {},
   "outputs": [
    {
     "name": "stdout",
     "output_type": "stream",
     "text": [
      "<class 'pandas.core.frame.DataFrame'>\n",
      "RangeIndex: 7001 entries, 0 to 7000\n",
      "Data columns (total 3 columns):\n",
      "DURATION       7001 non-null timedelta64[ns]\n",
      "CASE_STATUS    7001 non-null object\n",
      "SOC_CODE       7001 non-null object\n",
      "dtypes: object(2), timedelta64[ns](1)\n",
      "memory usage: 164.2+ KB\n"
     ]
    }
   ],
   "source": [
    "eda_a = eda_a.fillna({\"SOC_CODE\": 0})\n",
    "eda_a.info()"
   ]
  },
  {
   "cell_type": "code",
   "execution_count": 7,
   "metadata": {},
   "outputs": [],
   "source": [
    "eda_a['CASE_STATUS'] = eda_a['CASE_STATUS'].astype('category')\n",
    "eda_a['SOC_CODE'] = eda_a['SOC_CODE'].astype('category')"
   ]
  },
  {
   "cell_type": "code",
   "execution_count": 8,
   "metadata": {},
   "outputs": [],
   "source": [
    "# Converting Duration to a float data type. \n",
    "eda_a['DURATION'] = eda_a['DURATION']/ np.timedelta64(1, 'h')"
   ]
  },
  {
   "cell_type": "code",
   "execution_count": 9,
   "metadata": {},
   "outputs": [
    {
     "data": {
      "text/html": [
       "<div>\n",
       "<style scoped>\n",
       "    .dataframe tbody tr th:only-of-type {\n",
       "        vertical-align: middle;\n",
       "    }\n",
       "\n",
       "    .dataframe tbody tr th {\n",
       "        vertical-align: top;\n",
       "    }\n",
       "\n",
       "    .dataframe thead th {\n",
       "        text-align: right;\n",
       "    }\n",
       "</style>\n",
       "<table border=\"1\" class=\"dataframe\">\n",
       "  <thead>\n",
       "    <tr style=\"text-align: right;\">\n",
       "      <th></th>\n",
       "      <th>DURATION</th>\n",
       "      <th>CASE_STATUS</th>\n",
       "      <th>SOC_CODE</th>\n",
       "      <th>C_cat</th>\n",
       "      <th>S_cat</th>\n",
       "    </tr>\n",
       "  </thead>\n",
       "  <tbody>\n",
       "    <tr>\n",
       "      <th>0</th>\n",
       "      <td>96.0</td>\n",
       "      <td>CERTIFIED</td>\n",
       "      <td>15-1132</td>\n",
       "      <td>0</td>\n",
       "      <td>55</td>\n",
       "    </tr>\n",
       "    <tr>\n",
       "      <th>1</th>\n",
       "      <td>96.0</td>\n",
       "      <td>CERTIFIED</td>\n",
       "      <td>13-2011</td>\n",
       "      <td>0</td>\n",
       "      <td>39</td>\n",
       "    </tr>\n",
       "    <tr>\n",
       "      <th>2</th>\n",
       "      <td>168.0</td>\n",
       "      <td>CERTIFIED</td>\n",
       "      <td>15-1141</td>\n",
       "      <td>0</td>\n",
       "      <td>58</td>\n",
       "    </tr>\n",
       "    <tr>\n",
       "      <th>3</th>\n",
       "      <td>168.0</td>\n",
       "      <td>CERTIFIED</td>\n",
       "      <td>15-1132</td>\n",
       "      <td>0</td>\n",
       "      <td>55</td>\n",
       "    </tr>\n",
       "    <tr>\n",
       "      <th>4</th>\n",
       "      <td>168.0</td>\n",
       "      <td>CERTIFIED</td>\n",
       "      <td>15-1132</td>\n",
       "      <td>0</td>\n",
       "      <td>55</td>\n",
       "    </tr>\n",
       "  </tbody>\n",
       "</table>\n",
       "</div>"
      ],
      "text/plain": [
       "   DURATION CASE_STATUS SOC_CODE  C_cat  S_cat\n",
       "0      96.0   CERTIFIED  15-1132      0     55\n",
       "1      96.0   CERTIFIED  13-2011      0     39\n",
       "2     168.0   CERTIFIED  15-1141      0     58\n",
       "3     168.0   CERTIFIED  15-1132      0     55\n",
       "4     168.0   CERTIFIED  15-1132      0     55"
      ]
     },
     "execution_count": 9,
     "metadata": {},
     "output_type": "execute_result"
    }
   ],
   "source": [
    "# Assign a classification (categories) to the Case Status and Soc Code\n",
    "eda_a[\"C_cat\"] = eda_a[\"CASE_STATUS\"].cat.codes\n",
    "eda_a[\"S_cat\"] = eda_a[\"SOC_CODE\"].cat.codes\n",
    "eda_a.head()"
   ]
  },
  {
   "cell_type": "markdown",
   "metadata": {},
   "source": [
    "###  How many hours were used to process the total number of applications for each category?\n",
    "Method 1: Use \"groupby\"\n",
    "Method 2: Via Dictionary"
   ]
  },
  {
   "cell_type": "code",
   "execution_count": 11,
   "metadata": {},
   "outputs": [
    {
     "name": "stdout",
     "output_type": "stream",
     "text": [
      "                     S_cat   DURATION\n",
      "CASE_STATUS                          \n",
      "CERTIFIED             5330   745560.0\n",
      "CERTIFIED-WITHDRAWN    637  5587392.0\n",
      "DENIED                 908    66720.0\n",
      "WITHDRAWN              126   766032.0\n"
     ]
    }
   ],
   "source": [
    "#Use groupby  For the Status Category \"0\" or \"Certified\", how many hours were used to process the 55330 apps?\n",
    "#Unit of Duration is hours\n",
    "option1= eda_a.groupby('CASE_STATUS').agg({'S_cat': 'count', 'DURATION': 'sum'})\n",
    "print(option1)"
   ]
  },
  {
   "cell_type": "code",
   "execution_count": 12,
   "metadata": {
    "scrolled": true
   },
   "outputs": [
    {
     "name": "stdout",
     "output_type": "stream",
     "text": [
      "             S_cat  DURATION\n",
      "S_cat     1.000000 -0.263181\n",
      "DURATION -0.263181  1.000000\n"
     ]
    }
   ],
   "source": [
    "#Calculate correlation\n",
    "corre1 = option1.corr(method='pearson')\n",
    "print(corre1)"
   ]
  },
  {
   "cell_type": "raw",
   "metadata": {},
   "source": [
    "I can conclude that the variables have a negative correlation"
   ]
  },
  {
   "cell_type": "code",
   "execution_count": 14,
   "metadata": {
    "scrolled": false
   },
   "outputs": [
    {
     "data": {
      "image/png": "[encoded data removed]",
      "text/plain": [
       "<matplotlib.figure.Figure at 0x1170ce588>"
      ]
     },
     "metadata": {},
     "output_type": "display_data"
    }
   ],
   "source": [
    "ax2 = option1.plot.scatter(x='S_cat', y = 'DURATION')"
   ]
  },
  {
   "cell_type": "code",
   "execution_count": 15,
   "metadata": {},
   "outputs": [
    {
     "name": "stdout",
     "output_type": "stream",
     "text": [
      "{'Index': [0, 1, 2, 3], 'S_cat': [0, 1, 2, 3], 'Status_Count': [5330, 637, 908, 126], 'Sum Duration': [31065, 232808, 2780, 31918]}\n"
     ]
    }
   ],
   "source": [
    "#Method 2\n",
    "dic ={'Index':[0,1,2,3], 'S_cat': [0,1,2,3], 'Status_Count':[5330, 637, 908, 126], 'Sum Duration': [31065, 232808, 2780, 31918]}\n",
    "print(dic)"
   ]
  },
  {
   "cell_type": "code",
   "execution_count": 17,
   "metadata": {},
   "outputs": [],
   "source": [
    "dic_pd = pd.DataFrame.from_dict(dic)"
   ]
  },
  {
   "cell_type": "code",
   "execution_count": 18,
   "metadata": {
    "scrolled": true
   },
   "outputs": [
    {
     "data": {
      "image/png": "[encoded data removed]",
      "text/plain": [
       "<matplotlib.figure.Figure at 0x1171798d0>"
      ]
     },
     "metadata": {},
     "output_type": "display_data"
    }
   ],
   "source": [
    "ax1 = dic_pd.plot.scatter(x='Status_Count', y = 'Sum Duration', c='S_cat', colormap='viridis')"
   ]
  },
  {
   "cell_type": "code",
   "execution_count": 19,
   "metadata": {},
   "outputs": [
    {
     "name": "stdout",
     "output_type": "stream",
     "text": [
      "                 Index     S_cat  Status_Count  Sum Duration\n",
      "Index         1.000000  1.000000     -0.822328     -0.276233\n",
      "S_cat         1.000000  1.000000     -0.822328     -0.276233\n",
      "Status_Count -0.822328 -0.822328      1.000000     -0.263181\n",
      "Sum Duration -0.276233 -0.276233     -0.263181      1.000000\n"
     ]
    }
   ],
   "source": [
    "corr0 = dic_pd.corr(method='pearson')\n",
    "print(corr0)"
   ]
  },
  {
   "cell_type": "code",
   "execution_count": 20,
   "metadata": {
    "scrolled": false
   },
   "outputs": [
    {
     "data": {
      "image/png": "[encoded data removed]",
      "text/plain": [
       "<matplotlib.figure.Figure at 0x1171cc630>"
      ]
     },
     "metadata": {},
     "output_type": "display_data"
    }
   ],
   "source": [
    "sns.heatmap(corr0, vmin=-1, vmax=1, linecolor = 'grey', linewidths = .5, cmap=\"YlGnBu\", xticklabels=corr0.columns.values, yticklabels=corr0.columns.values)\n",
    "plt.show()"
   ]
  },
  {
   "cell_type": "code",
   "execution_count": 21,
   "metadata": {
    "scrolled": true
   },
   "outputs": [
    {
     "name": "stdout",
     "output_type": "stream",
     "text": [
      "          C_cat  DURATION\n",
      "SOC_CODE                 \n",
      "0             2      72.0\n",
      "11-1011      33    4464.0\n",
      "11-1021      41    5952.0\n",
      "11-2011       7     816.0\n",
      "11-2021     102   57240.0\n",
      "11-2022      22    8856.0\n",
      "11-2031       7    1344.0\n",
      "11-3011       3     288.0\n",
      "11-3021     197  120312.0\n",
      "11-3031      69   24432.0\n",
      "11-3051       9    1080.0\n",
      "11-3061       6     792.0\n",
      "11-3071       5   12696.0\n",
      "11-3121       2     192.0\n",
      "11-3131       3     456.0\n",
      "11-9013      15    4008.0\n",
      "11-9021       8     912.0\n",
      "11-9031       1      72.0\n",
      "11-9033       8     816.0\n",
      "11-9041      36   11232.0\n",
      "11-9051       2     192.0\n",
      "11-9111       4   10032.0\n",
      "11-9121       6    2736.0\n",
      "11-9141       1      96.0\n",
      "11-9151       3     264.0\n",
      "11-9199      10    1152.0\n",
      "13-1011       1      24.0\n",
      "13-1022       1      48.0\n",
      "13-1023       1      96.0\n",
      "13-1041       8     984.0\n",
      "...         ...       ...\n",
      "31-9096       1      24.0\n",
      "31-9099       1      96.0\n",
      "33-9021       1      24.0\n",
      "35-1011       2     168.0\n",
      "35-2011       1     144.0\n",
      "35-2014       1      48.0\n",
      "39-9032       1     144.0\n",
      "41-1011       1      24.0\n",
      "41-2031       1      48.0\n",
      "41-3011       1     168.0\n",
      "41-3031       4    8736.0\n",
      "41-3098       1      24.0\n",
      "41-3099       2     144.0\n",
      "41-4011       2     216.0\n",
      "41-9012       1      48.0\n",
      "41-9031      30   38616.0\n",
      "43-3021       1      48.0\n",
      "43-4051       3     240.0\n",
      "43-6011       2     288.0\n",
      "43-6012       1     144.0\n",
      "43-9061       1      24.0\n",
      "43-9111       1      48.0\n",
      "45-2011       2     144.0\n",
      "45-2092       2     120.0\n",
      "47-2061       1      48.0\n",
      "49-3023       1     120.0\n",
      "51-4041       1      72.0\n",
      "51-9083       1      96.0\n",
      "53-2011       2     192.0\n",
      "53-3021       1      48.0\n",
      "\n",
      "[260 rows x 2 columns]\n"
     ]
    }
   ],
   "source": [
    "option2= eda_a.groupby('SOC_CODE').agg({'C_cat': 'count', 'DURATION': 'sum'})\n",
    "print(option2)"
   ]
  },
  {
   "cell_type": "code",
   "execution_count": 22,
   "metadata": {},
   "outputs": [
    {
     "data": {
      "text/html": [
       "<div>\n",
       "<style scoped>\n",
       "    .dataframe tbody tr th:only-of-type {\n",
       "        vertical-align: middle;\n",
       "    }\n",
       "\n",
       "    .dataframe tbody tr th {\n",
       "        vertical-align: top;\n",
       "    }\n",
       "\n",
       "    .dataframe thead th {\n",
       "        text-align: right;\n",
       "    }\n",
       "</style>\n",
       "<table border=\"1\" class=\"dataframe\">\n",
       "  <thead>\n",
       "    <tr style=\"text-align: right;\">\n",
       "      <th></th>\n",
       "      <th>C_cat</th>\n",
       "      <th>DURATION</th>\n",
       "    </tr>\n",
       "    <tr>\n",
       "      <th>SOC_CODE</th>\n",
       "      <th></th>\n",
       "      <th></th>\n",
       "    </tr>\n",
       "  </thead>\n",
       "  <tbody>\n",
       "    <tr>\n",
       "      <th>15-1132</th>\n",
       "      <td>2202</td>\n",
       "      <td>2441760.0</td>\n",
       "    </tr>\n",
       "    <tr>\n",
       "      <th>15-1121</th>\n",
       "      <td>487</td>\n",
       "      <td>518808.0</td>\n",
       "    </tr>\n",
       "    <tr>\n",
       "      <th>15-1199</th>\n",
       "      <td>377</td>\n",
       "      <td>268752.0</td>\n",
       "    </tr>\n",
       "    <tr>\n",
       "      <th>29-1069</th>\n",
       "      <td>367</td>\n",
       "      <td>345384.0</td>\n",
       "    </tr>\n",
       "    <tr>\n",
       "      <th>15-1133</th>\n",
       "      <td>328</td>\n",
       "      <td>181680.0</td>\n",
       "    </tr>\n",
       "    <tr>\n",
       "      <th>11-3021</th>\n",
       "      <td>197</td>\n",
       "      <td>120312.0</td>\n",
       "    </tr>\n",
       "    <tr>\n",
       "      <th>17-2072</th>\n",
       "      <td>174</td>\n",
       "      <td>125664.0</td>\n",
       "    </tr>\n",
       "    <tr>\n",
       "      <th>13-2011</th>\n",
       "      <td>151</td>\n",
       "      <td>65520.0</td>\n",
       "    </tr>\n",
       "    <tr>\n",
       "      <th>13-2051</th>\n",
       "      <td>141</td>\n",
       "      <td>104784.0</td>\n",
       "    </tr>\n",
       "    <tr>\n",
       "      <th>11-2021</th>\n",
       "      <td>102</td>\n",
       "      <td>57240.0</td>\n",
       "    </tr>\n",
       "    <tr>\n",
       "      <th>17-2071</th>\n",
       "      <td>102</td>\n",
       "      <td>49200.0</td>\n",
       "    </tr>\n",
       "    <tr>\n",
       "      <th>15-1131</th>\n",
       "      <td>99</td>\n",
       "      <td>310248.0</td>\n",
       "    </tr>\n",
       "    <tr>\n",
       "      <th>13-1111</th>\n",
       "      <td>91</td>\n",
       "      <td>66672.0</td>\n",
       "    </tr>\n",
       "    <tr>\n",
       "      <th>17-2141</th>\n",
       "      <td>86</td>\n",
       "      <td>60456.0</td>\n",
       "    </tr>\n",
       "    <tr>\n",
       "      <th>29-1063</th>\n",
       "      <td>75</td>\n",
       "      <td>13920.0</td>\n",
       "    </tr>\n",
       "    <tr>\n",
       "      <th>11-3031</th>\n",
       "      <td>69</td>\n",
       "      <td>24432.0</td>\n",
       "    </tr>\n",
       "    <tr>\n",
       "      <th>19-1021</th>\n",
       "      <td>67</td>\n",
       "      <td>275568.0</td>\n",
       "    </tr>\n",
       "    <tr>\n",
       "      <th>23-1011</th>\n",
       "      <td>65</td>\n",
       "      <td>45048.0</td>\n",
       "    </tr>\n",
       "    <tr>\n",
       "      <th>15-1142</th>\n",
       "      <td>64</td>\n",
       "      <td>42288.0</td>\n",
       "    </tr>\n",
       "    <tr>\n",
       "      <th>15-2031</th>\n",
       "      <td>63</td>\n",
       "      <td>37536.0</td>\n",
       "    </tr>\n",
       "    <tr>\n",
       "      <th>17-2051</th>\n",
       "      <td>53</td>\n",
       "      <td>60528.0</td>\n",
       "    </tr>\n",
       "    <tr>\n",
       "      <th>17-1011</th>\n",
       "      <td>49</td>\n",
       "      <td>63552.0</td>\n",
       "    </tr>\n",
       "    <tr>\n",
       "      <th>13-1161</th>\n",
       "      <td>48</td>\n",
       "      <td>54816.0</td>\n",
       "    </tr>\n",
       "    <tr>\n",
       "      <th>15-1141</th>\n",
       "      <td>46</td>\n",
       "      <td>62472.0</td>\n",
       "    </tr>\n",
       "    <tr>\n",
       "      <th>15-1122</th>\n",
       "      <td>43</td>\n",
       "      <td>14040.0</td>\n",
       "    </tr>\n",
       "    <tr>\n",
       "      <th>11-1021</th>\n",
       "      <td>41</td>\n",
       "      <td>5952.0</td>\n",
       "    </tr>\n",
       "    <tr>\n",
       "      <th>15-1111</th>\n",
       "      <td>38</td>\n",
       "      <td>4968.0</td>\n",
       "    </tr>\n",
       "    <tr>\n",
       "      <th>19-1042</th>\n",
       "      <td>36</td>\n",
       "      <td>106872.0</td>\n",
       "    </tr>\n",
       "    <tr>\n",
       "      <th>11-9041</th>\n",
       "      <td>36</td>\n",
       "      <td>11232.0</td>\n",
       "    </tr>\n",
       "    <tr>\n",
       "      <th>15-2041</th>\n",
       "      <td>35</td>\n",
       "      <td>65112.0</td>\n",
       "    </tr>\n",
       "    <tr>\n",
       "      <th>...</th>\n",
       "      <td>...</td>\n",
       "      <td>...</td>\n",
       "    </tr>\n",
       "    <tr>\n",
       "      <th>25-2053</th>\n",
       "      <td>1</td>\n",
       "      <td>11904.0</td>\n",
       "    </tr>\n",
       "    <tr>\n",
       "      <th>25-2041</th>\n",
       "      <td>1</td>\n",
       "      <td>48.0</td>\n",
       "    </tr>\n",
       "    <tr>\n",
       "      <th>25-1069</th>\n",
       "      <td>1</td>\n",
       "      <td>144.0</td>\n",
       "    </tr>\n",
       "    <tr>\n",
       "      <th>25-2023</th>\n",
       "      <td>1</td>\n",
       "      <td>120.0</td>\n",
       "    </tr>\n",
       "    <tr>\n",
       "      <th>25-1082</th>\n",
       "      <td>1</td>\n",
       "      <td>19296.0</td>\n",
       "    </tr>\n",
       "    <tr>\n",
       "      <th>25-2012</th>\n",
       "      <td>1</td>\n",
       "      <td>168.0</td>\n",
       "    </tr>\n",
       "    <tr>\n",
       "      <th>25-1123</th>\n",
       "      <td>1</td>\n",
       "      <td>144.0</td>\n",
       "    </tr>\n",
       "    <tr>\n",
       "      <th>21-2011</th>\n",
       "      <td>1</td>\n",
       "      <td>144.0</td>\n",
       "    </tr>\n",
       "    <tr>\n",
       "      <th>21-1091</th>\n",
       "      <td>1</td>\n",
       "      <td>96.0</td>\n",
       "    </tr>\n",
       "    <tr>\n",
       "      <th>17-2063</th>\n",
       "      <td>1</td>\n",
       "      <td>96.0</td>\n",
       "    </tr>\n",
       "    <tr>\n",
       "      <th>29-1022</th>\n",
       "      <td>1</td>\n",
       "      <td>144.0</td>\n",
       "    </tr>\n",
       "    <tr>\n",
       "      <th>17-2074</th>\n",
       "      <td>1</td>\n",
       "      <td>144.0</td>\n",
       "    </tr>\n",
       "    <tr>\n",
       "      <th>17-2141.02</th>\n",
       "      <td>1</td>\n",
       "      <td>96.0</td>\n",
       "    </tr>\n",
       "    <tr>\n",
       "      <th>17-3022</th>\n",
       "      <td>1</td>\n",
       "      <td>168.0</td>\n",
       "    </tr>\n",
       "    <tr>\n",
       "      <th>19-1029.02</th>\n",
       "      <td>1</td>\n",
       "      <td>7872.0</td>\n",
       "    </tr>\n",
       "    <tr>\n",
       "      <th>29-1041</th>\n",
       "      <td>1</td>\n",
       "      <td>168.0</td>\n",
       "    </tr>\n",
       "    <tr>\n",
       "      <th>29-1031</th>\n",
       "      <td>1</td>\n",
       "      <td>96.0</td>\n",
       "    </tr>\n",
       "    <tr>\n",
       "      <th>29-1029</th>\n",
       "      <td>1</td>\n",
       "      <td>24.0</td>\n",
       "    </tr>\n",
       "    <tr>\n",
       "      <th>29-1023</th>\n",
       "      <td>1</td>\n",
       "      <td>144.0</td>\n",
       "    </tr>\n",
       "    <tr>\n",
       "      <th>27-4099</th>\n",
       "      <td>1</td>\n",
       "      <td>120.0</td>\n",
       "    </tr>\n",
       "    <tr>\n",
       "      <th>19-4099</th>\n",
       "      <td>1</td>\n",
       "      <td>168.0</td>\n",
       "    </tr>\n",
       "    <tr>\n",
       "      <th>27-4031</th>\n",
       "      <td>1</td>\n",
       "      <td>96.0</td>\n",
       "    </tr>\n",
       "    <tr>\n",
       "      <th>19-3031</th>\n",
       "      <td>1</td>\n",
       "      <td>168.0</td>\n",
       "    </tr>\n",
       "    <tr>\n",
       "      <th>19-3032</th>\n",
       "      <td>1</td>\n",
       "      <td>3216.0</td>\n",
       "    </tr>\n",
       "    <tr>\n",
       "      <th>19-3039</th>\n",
       "      <td>1</td>\n",
       "      <td>144.0</td>\n",
       "    </tr>\n",
       "    <tr>\n",
       "      <th>19-3099</th>\n",
       "      <td>1</td>\n",
       "      <td>168.0</td>\n",
       "    </tr>\n",
       "    <tr>\n",
       "      <th>27-3022</th>\n",
       "      <td>1</td>\n",
       "      <td>24.0</td>\n",
       "    </tr>\n",
       "    <tr>\n",
       "      <th>19-4011</th>\n",
       "      <td>1</td>\n",
       "      <td>24.0</td>\n",
       "    </tr>\n",
       "    <tr>\n",
       "      <th>19-4093</th>\n",
       "      <td>1</td>\n",
       "      <td>144.0</td>\n",
       "    </tr>\n",
       "    <tr>\n",
       "      <th>53-3021</th>\n",
       "      <td>1</td>\n",
       "      <td>48.0</td>\n",
       "    </tr>\n",
       "  </tbody>\n",
       "</table>\n",
       "<p>260 rows × 2 columns</p>\n",
       "</div>"
      ],
      "text/plain": [
       "            C_cat   DURATION\n",
       "SOC_CODE                    \n",
       "15-1132      2202  2441760.0\n",
       "15-1121       487   518808.0\n",
       "15-1199       377   268752.0\n",
       "29-1069       367   345384.0\n",
       "15-1133       328   181680.0\n",
       "11-3021       197   120312.0\n",
       "17-2072       174   125664.0\n",
       "13-2011       151    65520.0\n",
       "13-2051       141   104784.0\n",
       "11-2021       102    57240.0\n",
       "17-2071       102    49200.0\n",
       "15-1131        99   310248.0\n",
       "13-1111        91    66672.0\n",
       "17-2141        86    60456.0\n",
       "29-1063        75    13920.0\n",
       "11-3031        69    24432.0\n",
       "19-1021        67   275568.0\n",
       "23-1011        65    45048.0\n",
       "15-1142        64    42288.0\n",
       "15-2031        63    37536.0\n",
       "17-2051        53    60528.0\n",
       "17-1011        49    63552.0\n",
       "13-1161        48    54816.0\n",
       "15-1141        46    62472.0\n",
       "15-1122        43    14040.0\n",
       "11-1021        41     5952.0\n",
       "15-1111        38     4968.0\n",
       "19-1042        36   106872.0\n",
       "11-9041        36    11232.0\n",
       "15-2041        35    65112.0\n",
       "...           ...        ...\n",
       "25-2053         1    11904.0\n",
       "25-2041         1       48.0\n",
       "25-1069         1      144.0\n",
       "25-2023         1      120.0\n",
       "25-1082         1    19296.0\n",
       "25-2012         1      168.0\n",
       "25-1123         1      144.0\n",
       "21-2011         1      144.0\n",
       "21-1091         1       96.0\n",
       "17-2063         1       96.0\n",
       "29-1022         1      144.0\n",
       "17-2074         1      144.0\n",
       "17-2141.02      1       96.0\n",
       "17-3022         1      168.0\n",
       "19-1029.02      1     7872.0\n",
       "29-1041         1      168.0\n",
       "29-1031         1       96.0\n",
       "29-1029         1       24.0\n",
       "29-1023         1      144.0\n",
       "27-4099         1      120.0\n",
       "19-4099         1      168.0\n",
       "27-4031         1       96.0\n",
       "19-3031         1      168.0\n",
       "19-3032         1     3216.0\n",
       "19-3039         1      144.0\n",
       "19-3099         1      168.0\n",
       "27-3022         1       24.0\n",
       "19-4011         1       24.0\n",
       "19-4093         1      144.0\n",
       "53-3021         1       48.0\n",
       "\n",
       "[260 rows x 2 columns]"
      ]
     },
     "execution_count": 22,
     "metadata": {},
     "output_type": "execute_result"
    }
   ],
   "source": [
    "#Unit of Duration (hours)\n",
    "option2.sort_values('C_cat', ascending=False)"
   ]
  },
  {
   "cell_type": "code",
   "execution_count": 23,
   "metadata": {
    "scrolled": true
   },
   "outputs": [
    {
     "name": "stdout",
     "output_type": "stream",
     "text": [
      "           C_cat  DURATION\n",
      "C_cat     1.0000    0.9826\n",
      "DURATION  0.9826    1.0000\n"
     ]
    }
   ],
   "source": [
    "corr2 = option2.corr(method='pearson')\n",
    "print(corr2)"
   ]
  },
  {
   "cell_type": "code",
   "execution_count": 24,
   "metadata": {},
   "outputs": [
    {
     "data": {
      "image/png": "[encoded data removed]",
      "text/plain": [
       "<matplotlib.figure.Figure at 0x117223240>"
      ]
     },
     "metadata": {},
     "output_type": "display_data"
    }
   ],
   "source": [
    "ax3 = option2.plot.scatter(x='C_cat', y = 'DURATION')"
   ]
  },
  {
   "cell_type": "code",
   "execution_count": 25,
   "metadata": {
    "scrolled": true
   },
   "outputs": [
    {
     "name": "stdout",
     "output_type": "stream",
     "text": [
      "             C_cat  DURATION\n",
      "C_cat     1.000000  0.847872\n",
      "DURATION  0.847872  1.000000\n"
     ]
    }
   ],
   "source": [
    "corrs = option2.corr(method='spearman')\n",
    "print(corrs)"
   ]
  },
  {
   "cell_type": "markdown",
   "metadata": {},
   "source": [
    "The resulting correlation on the variables:  count job titles and how long it takes to process them is positive and very close to 1. Thus,  both variables have a stronger linear relationship. "
   ]
  }
 ],
 "metadata": {
  "kernelspec": {
   "display_name": "Python 3",
   "language": "python",
   "name": "python3"
  },
  "language_info": {
   "codemirror_mode": {
    "name": "ipython",
    "version": 3
   },
   "file_extension": ".py",
   "mimetype": "text/x-python",
   "name": "python",
   "nbconvert_exporter": "python",
   "pygments_lexer": "ipython3",
   "version": "3.6.4"
  }
 },
 "nbformat": 4,
 "nbformat_minor": 2
}
